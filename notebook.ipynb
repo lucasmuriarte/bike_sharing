{
 "cells": [
  {
   "cell_type": "markdown",
   "metadata": {},
   "source": [
    "# Bike Sharing Demand\n",
    "This dataset consists of the number of public bikes rented in Seoul's bike sharing system at each hour. It also includes information about the weather and the time, such as whether it was a public holiday."
   ]
  },
  {
   "cell_type": "code",
   "execution_count": 62,
   "metadata": {},
   "outputs": [
    {
     "data": {
      "text/html": [
       "<div>\n",
       "<style scoped>\n",
       "    .dataframe tbody tr th:only-of-type {\n",
       "        vertical-align: middle;\n",
       "    }\n",
       "\n",
       "    .dataframe tbody tr th {\n",
       "        vertical-align: top;\n",
       "    }\n",
       "\n",
       "    .dataframe thead th {\n",
       "        text-align: right;\n",
       "    }\n",
       "</style>\n",
       "<table border=\"1\" class=\"dataframe\">\n",
       "  <thead>\n",
       "    <tr style=\"text-align: right;\">\n",
       "      <th></th>\n",
       "      <th>Date</th>\n",
       "      <th>Rented Bike Count</th>\n",
       "      <th>Hour</th>\n",
       "      <th>Temperature(C)</th>\n",
       "      <th>Humidity(%)</th>\n",
       "      <th>Wind speed (m/s)</th>\n",
       "      <th>Visibility (10m)</th>\n",
       "      <th>Dew point temperature(C)</th>\n",
       "      <th>Solar Radiation (MJ/m2)</th>\n",
       "      <th>Rainfall(mm)</th>\n",
       "      <th>Snowfall (cm)</th>\n",
       "      <th>Seasons</th>\n",
       "      <th>Holiday</th>\n",
       "      <th>Functioning Day</th>\n",
       "    </tr>\n",
       "  </thead>\n",
       "  <tbody>\n",
       "    <tr>\n",
       "      <th>0</th>\n",
       "      <td>01/12/2017</td>\n",
       "      <td>254</td>\n",
       "      <td>0</td>\n",
       "      <td>-5.2</td>\n",
       "      <td>37</td>\n",
       "      <td>2.2</td>\n",
       "      <td>2000</td>\n",
       "      <td>-17.6</td>\n",
       "      <td>0.0</td>\n",
       "      <td>0.0</td>\n",
       "      <td>0.0</td>\n",
       "      <td>Winter</td>\n",
       "      <td>No Holiday</td>\n",
       "      <td>Yes</td>\n",
       "    </tr>\n",
       "    <tr>\n",
       "      <th>1</th>\n",
       "      <td>01/12/2017</td>\n",
       "      <td>204</td>\n",
       "      <td>1</td>\n",
       "      <td>-5.5</td>\n",
       "      <td>38</td>\n",
       "      <td>0.8</td>\n",
       "      <td>2000</td>\n",
       "      <td>-17.6</td>\n",
       "      <td>0.0</td>\n",
       "      <td>0.0</td>\n",
       "      <td>0.0</td>\n",
       "      <td>Winter</td>\n",
       "      <td>No Holiday</td>\n",
       "      <td>Yes</td>\n",
       "    </tr>\n",
       "    <tr>\n",
       "      <th>2</th>\n",
       "      <td>01/12/2017</td>\n",
       "      <td>173</td>\n",
       "      <td>2</td>\n",
       "      <td>-6.0</td>\n",
       "      <td>39</td>\n",
       "      <td>1.0</td>\n",
       "      <td>2000</td>\n",
       "      <td>-17.7</td>\n",
       "      <td>0.0</td>\n",
       "      <td>0.0</td>\n",
       "      <td>0.0</td>\n",
       "      <td>Winter</td>\n",
       "      <td>No Holiday</td>\n",
       "      <td>Yes</td>\n",
       "    </tr>\n",
       "    <tr>\n",
       "      <th>3</th>\n",
       "      <td>01/12/2017</td>\n",
       "      <td>107</td>\n",
       "      <td>3</td>\n",
       "      <td>-6.2</td>\n",
       "      <td>40</td>\n",
       "      <td>0.9</td>\n",
       "      <td>2000</td>\n",
       "      <td>-17.6</td>\n",
       "      <td>0.0</td>\n",
       "      <td>0.0</td>\n",
       "      <td>0.0</td>\n",
       "      <td>Winter</td>\n",
       "      <td>No Holiday</td>\n",
       "      <td>Yes</td>\n",
       "    </tr>\n",
       "    <tr>\n",
       "      <th>4</th>\n",
       "      <td>01/12/2017</td>\n",
       "      <td>78</td>\n",
       "      <td>4</td>\n",
       "      <td>-6.0</td>\n",
       "      <td>36</td>\n",
       "      <td>2.3</td>\n",
       "      <td>2000</td>\n",
       "      <td>-18.6</td>\n",
       "      <td>0.0</td>\n",
       "      <td>0.0</td>\n",
       "      <td>0.0</td>\n",
       "      <td>Winter</td>\n",
       "      <td>No Holiday</td>\n",
       "      <td>Yes</td>\n",
       "    </tr>\n",
       "    <tr>\n",
       "      <th>...</th>\n",
       "      <td>...</td>\n",
       "      <td>...</td>\n",
       "      <td>...</td>\n",
       "      <td>...</td>\n",
       "      <td>...</td>\n",
       "      <td>...</td>\n",
       "      <td>...</td>\n",
       "      <td>...</td>\n",
       "      <td>...</td>\n",
       "      <td>...</td>\n",
       "      <td>...</td>\n",
       "      <td>...</td>\n",
       "      <td>...</td>\n",
       "      <td>...</td>\n",
       "    </tr>\n",
       "    <tr>\n",
       "      <th>8755</th>\n",
       "      <td>30/11/2018</td>\n",
       "      <td>1003</td>\n",
       "      <td>19</td>\n",
       "      <td>4.2</td>\n",
       "      <td>34</td>\n",
       "      <td>2.6</td>\n",
       "      <td>1894</td>\n",
       "      <td>-10.3</td>\n",
       "      <td>0.0</td>\n",
       "      <td>0.0</td>\n",
       "      <td>0.0</td>\n",
       "      <td>Autumn</td>\n",
       "      <td>No Holiday</td>\n",
       "      <td>Yes</td>\n",
       "    </tr>\n",
       "    <tr>\n",
       "      <th>8756</th>\n",
       "      <td>30/11/2018</td>\n",
       "      <td>764</td>\n",
       "      <td>20</td>\n",
       "      <td>3.4</td>\n",
       "      <td>37</td>\n",
       "      <td>2.3</td>\n",
       "      <td>2000</td>\n",
       "      <td>-9.9</td>\n",
       "      <td>0.0</td>\n",
       "      <td>0.0</td>\n",
       "      <td>0.0</td>\n",
       "      <td>Autumn</td>\n",
       "      <td>No Holiday</td>\n",
       "      <td>Yes</td>\n",
       "    </tr>\n",
       "    <tr>\n",
       "      <th>8757</th>\n",
       "      <td>30/11/2018</td>\n",
       "      <td>694</td>\n",
       "      <td>21</td>\n",
       "      <td>2.6</td>\n",
       "      <td>39</td>\n",
       "      <td>0.3</td>\n",
       "      <td>1968</td>\n",
       "      <td>-9.9</td>\n",
       "      <td>0.0</td>\n",
       "      <td>0.0</td>\n",
       "      <td>0.0</td>\n",
       "      <td>Autumn</td>\n",
       "      <td>No Holiday</td>\n",
       "      <td>Yes</td>\n",
       "    </tr>\n",
       "    <tr>\n",
       "      <th>8758</th>\n",
       "      <td>30/11/2018</td>\n",
       "      <td>712</td>\n",
       "      <td>22</td>\n",
       "      <td>2.1</td>\n",
       "      <td>41</td>\n",
       "      <td>1.0</td>\n",
       "      <td>1859</td>\n",
       "      <td>-9.8</td>\n",
       "      <td>0.0</td>\n",
       "      <td>0.0</td>\n",
       "      <td>0.0</td>\n",
       "      <td>Autumn</td>\n",
       "      <td>No Holiday</td>\n",
       "      <td>Yes</td>\n",
       "    </tr>\n",
       "    <tr>\n",
       "      <th>8759</th>\n",
       "      <td>30/11/2018</td>\n",
       "      <td>584</td>\n",
       "      <td>23</td>\n",
       "      <td>1.9</td>\n",
       "      <td>43</td>\n",
       "      <td>1.3</td>\n",
       "      <td>1909</td>\n",
       "      <td>-9.3</td>\n",
       "      <td>0.0</td>\n",
       "      <td>0.0</td>\n",
       "      <td>0.0</td>\n",
       "      <td>Autumn</td>\n",
       "      <td>No Holiday</td>\n",
       "      <td>Yes</td>\n",
       "    </tr>\n",
       "  </tbody>\n",
       "</table>\n",
       "<p>8760 rows × 14 columns</p>\n",
       "</div>"
      ],
      "text/plain": [
       "            Date  Rented Bike Count  Hour  Temperature(C)  Humidity(%)  \\\n",
       "0     01/12/2017                254     0            -5.2           37   \n",
       "1     01/12/2017                204     1            -5.5           38   \n",
       "2     01/12/2017                173     2            -6.0           39   \n",
       "3     01/12/2017                107     3            -6.2           40   \n",
       "4     01/12/2017                 78     4            -6.0           36   \n",
       "...          ...                ...   ...             ...          ...   \n",
       "8755  30/11/2018               1003    19             4.2           34   \n",
       "8756  30/11/2018                764    20             3.4           37   \n",
       "8757  30/11/2018                694    21             2.6           39   \n",
       "8758  30/11/2018                712    22             2.1           41   \n",
       "8759  30/11/2018                584    23             1.9           43   \n",
       "\n",
       "      Wind speed (m/s)  Visibility (10m)  Dew point temperature(C)  \\\n",
       "0                  2.2              2000                     -17.6   \n",
       "1                  0.8              2000                     -17.6   \n",
       "2                  1.0              2000                     -17.7   \n",
       "3                  0.9              2000                     -17.6   \n",
       "4                  2.3              2000                     -18.6   \n",
       "...                ...               ...                       ...   \n",
       "8755               2.6              1894                     -10.3   \n",
       "8756               2.3              2000                      -9.9   \n",
       "8757               0.3              1968                      -9.9   \n",
       "8758               1.0              1859                      -9.8   \n",
       "8759               1.3              1909                      -9.3   \n",
       "\n",
       "      Solar Radiation (MJ/m2)  Rainfall(mm)  Snowfall (cm) Seasons  \\\n",
       "0                         0.0           0.0            0.0  Winter   \n",
       "1                         0.0           0.0            0.0  Winter   \n",
       "2                         0.0           0.0            0.0  Winter   \n",
       "3                         0.0           0.0            0.0  Winter   \n",
       "4                         0.0           0.0            0.0  Winter   \n",
       "...                       ...           ...            ...     ...   \n",
       "8755                      0.0           0.0            0.0  Autumn   \n",
       "8756                      0.0           0.0            0.0  Autumn   \n",
       "8757                      0.0           0.0            0.0  Autumn   \n",
       "8758                      0.0           0.0            0.0  Autumn   \n",
       "8759                      0.0           0.0            0.0  Autumn   \n",
       "\n",
       "         Holiday Functioning Day  \n",
       "0     No Holiday             Yes  \n",
       "1     No Holiday             Yes  \n",
       "2     No Holiday             Yes  \n",
       "3     No Holiday             Yes  \n",
       "4     No Holiday             Yes  \n",
       "...          ...             ...  \n",
       "8755  No Holiday             Yes  \n",
       "8756  No Holiday             Yes  \n",
       "8757  No Holiday             Yes  \n",
       "8758  No Holiday             Yes  \n",
       "8759  No Holiday             Yes  \n",
       "\n",
       "[8760 rows x 14 columns]"
      ]
     },
     "execution_count": 62,
     "metadata": {},
     "output_type": "execute_result"
    }
   ],
   "source": [
    "import pandas as pd \n",
    "import os\n",
    "pd.read_csv('data/SeoulBikeData.csv') "
   ]
  },
  {
   "cell_type": "code",
   "execution_count": 63,
   "metadata": {},
   "outputs": [
    {
     "name": "stdout",
     "output_type": "stream",
     "text": [
      "<class 'pandas.core.frame.DataFrame'>\n",
      "RangeIndex: 8760 entries, 0 to 8759\n",
      "Data columns (total 14 columns):\n",
      "Date                        8760 non-null object\n",
      "Rented Bike Count           8760 non-null int64\n",
      "Hour                        8760 non-null int64\n",
      "Temperature(C)              8760 non-null float64\n",
      "Humidity(%)                 8760 non-null int64\n",
      "Wind speed (m/s)            8760 non-null float64\n",
      "Visibility (10m)            8760 non-null int64\n",
      "Dew point temperature(C)    8760 non-null float64\n",
      "Solar Radiation (MJ/m2)     8760 non-null float64\n",
      "Rainfall(mm)                8760 non-null float64\n",
      "Snowfall (cm)               8760 non-null float64\n",
      "Seasons                     8760 non-null object\n",
      "Holiday                     8760 non-null object\n",
      "Functioning Day             8760 non-null object\n",
      "dtypes: float64(6), int64(4), object(4)\n",
      "memory usage: 958.2+ KB\n"
     ]
    }
   ],
   "source": [
    "df = pd.read_csv('data/SeoulBikeData.csv') \n",
    "df.info()"
   ]
  },
  {
   "cell_type": "markdown",
   "metadata": {},
   "source": [
    "[Source of dataset](https://archive.ics.uci.edu/ml/datasets/Seoul+Bike+Sharing+Demand). \n",
    "\n",
    "**Citations**:\n",
    "- Sathishkumar V E, Jangwoo Park, and Yongyun Cho. 'Using data mining techniques for bike sharing demand prediction in metropolitan city.' Computer Communications, Vol.153, pp.353-366, March, 2020\n",
    "- Sathishkumar V E and Yongyun Cho. 'A rule-based model for Seoul Bike sharing demand prediction using weather data' European Journal of Remote Sensing, pp. 1-18, Feb, 2020 "
   ]
  },
  {
   "cell_type": "markdown",
   "metadata": {},
   "source": [
    "We can see that we have 13 columns, the first column which is date several numerical columns and 3 categorical columns. There are no Nan entries.\n"
   ]
  },
  {
   "cell_type": "markdown",
   "metadata": {},
   "source": [
    "## 📖 Background\n",
    "\n",
    "We work for the Bike renting system team of Seul city, and the department is looking to predict how many bikes will be rented according to several parameters they have recorded.\n",
    "\n",
    "The department is trying to learn more about the characteristics that increase the probability of renting bikes.\n"
   ]
  },
  {
   "cell_type": "code",
   "execution_count": 64,
   "metadata": {},
   "outputs": [],
   "source": [
    "# importing packages"
   ]
  },
  {
   "cell_type": "markdown",
   "metadata": {},
   "source": [
    "# importing packages \n",
    "\n",
    "Let's first import some packages to perfomr a exploratory data analysis\n"
   ]
  },
  {
   "cell_type": "code",
   "execution_count": 65,
   "metadata": {},
   "outputs": [],
   "source": [
    "import matplotlib.pyplot as plt\n",
    "import seaborn as sns\n",
    "import numpy as np"
   ]
  },
  {
   "cell_type": "code",
   "execution_count": 66,
   "metadata": {},
   "outputs": [],
   "source": [
    "sns.set_theme(style=\"whitegrid\")"
   ]
  },
  {
   "cell_type": "markdown",
   "metadata": {},
   "source": [
    "# Exploratory data analysis\n",
    "\n",
    "## Exploring the data set\n",
    "Lets First start studying the data set itself.\n",
    "⌛️ EXPLORATORY DATA ANALYSIS\n",
    "\n",
    "Still, before diving deeper into the analysis, the our available data has to be examined and, if necessary, properly cleaned."
   ]
  },
  {
   "cell_type": "markdown",
   "metadata": {},
   "source": [
    "### Shape duplicates and type of columns"
   ]
  },
  {
   "cell_type": "code",
   "execution_count": 67,
   "metadata": {},
   "outputs": [
    {
     "name": "stdout",
     "output_type": "stream",
     "text": [
      "there are 8760 entreis and 14 columns or features\n"
     ]
    }
   ],
   "source": [
    "df.Date = pd.to_datetime(df.Date)\n",
    "print(f\"there are {df.shape[0]} entreis and {df.shape[1]} columns or features\") "
   ]
  },
  {
   "cell_type": "markdown",
   "metadata": {},
   "source": [
    "Lets identify if there are duplicates"
   ]
  },
  {
   "cell_type": "code",
   "execution_count": 68,
   "metadata": {},
   "outputs": [
    {
     "name": "stdout",
     "output_type": "stream",
     "text": [
      "8395\n"
     ]
    }
   ],
   "source": [
    "# Check for duplicates\n",
    "dups = df[df.duplicated(['Date'])]\n",
    "print(len(dups))"
   ]
  },
  {
   "cell_type": "markdown",
   "metadata": {},
   "source": [
    "From the upper result we can see that there are several entries for the same day but these can be for different hours, lets try to further explore this case."
   ]
  },
  {
   "cell_type": "code",
   "execution_count": 69,
   "metadata": {},
   "outputs": [
    {
     "data": {
      "text/plain": [
       "(8760,)"
      ]
     },
     "execution_count": 69,
     "metadata": {},
     "output_type": "execute_result"
    }
   ],
   "source": [
    "df.groupby([\"Date\", \"Hour\"]).size().shape"
   ]
  },
  {
   "cell_type": "markdown",
   "metadata": {},
   "source": [
    "As predicted we can see that for a same day there are seveeral hours recorded, and therefore, there are no duplicated entries in the data set"
   ]
  },
  {
   "cell_type": "markdown",
   "metadata": {},
   "source": [
    "# **Reting of bikes over time**"
   ]
  },
  {
   "cell_type": "code",
   "execution_count": 70,
   "metadata": {},
   "outputs": [
    {
     "name": "stdout",
     "output_type": "stream",
     "text": [
      "start day: 2017-01-12 00:00:00; Final day: 2018-12-11 00:00:00\n"
     ]
    }
   ],
   "source": [
    "print(f\"start day: {df.Date.min()}; Final day: {df.Date.max()}\")"
   ]
  },
  {
   "cell_type": "markdown",
   "metadata": {
    "tags": []
   },
   "source": [
    "The data frame starts the first of 12 of january 2017 and end the 11 december 2018.\n",
    "\n",
    "Lets evaluate the time trace of renting bikes along the time"
   ]
  },
  {
   "cell_type": "code",
   "execution_count": 71,
   "metadata": {},
   "outputs": [],
   "source": [
    "#target varaible\n",
    "tv = \"Rented Bike Count\""
   ]
  },
  {
   "cell_type": "code",
   "execution_count": 72,
   "metadata": {},
   "outputs": [
    {
     "data": {
      "text/plain": [
       "Text(0.5,0,'Time')"
      ]
     },
     "execution_count": 72,
     "metadata": {},
     "output_type": "execute_result"
    },
    {
     "data": {
      "image/png": "[encoded data removed]",
      "text/plain": [
       "<Figure size 720x432 with 1 Axes>"
      ]
     },
     "metadata": {},
     "output_type": "display_data"
    }
   ],
   "source": [
    "df.plot(x=\"Date\", y=tv, figsize=(10, 6))\n",
    "plt.ylabel(\"Rented bikes\")\n",
    "plt.xlabel(\"Time\")"
   ]
  },
  {
   "cell_type": "markdown",
   "metadata": {},
   "source": [
    "This is an interesting time line that may complicate the  analysis. Lets keep exploring this."
   ]
  },
  {
   "cell_type": "markdown",
   "metadata": {},
   "source": [
    "### Study of years and day of week"
   ]
  },
  {
   "cell_type": "code",
   "execution_count": 73,
   "metadata": {},
   "outputs": [
    {
     "data": {
      "text/plain": [
       "2018    8016\n",
       "2017     744\n",
       "Name: year, dtype: int64"
      ]
     },
     "execution_count": 73,
     "metadata": {},
     "output_type": "execute_result"
    },
    {
     "data": {
      "image/png": "[encoded data removed]",
      "text/plain": [
       "<Figure size 432x288 with 1 Axes>"
      ]
     },
     "metadata": {},
     "output_type": "display_data"
    }
   ],
   "source": [
    "df[\"year\"] = df.Date.dt.year.astype(int)\n",
    "df[\"day\"] = df.Date.dt.day_name()\n",
    "sns.countplot(x=\"year\", data=df)\n",
    "df.year.value_counts()"
   ]
  },
  {
   "cell_type": "markdown",
   "metadata": {},
   "source": [
    "We have 8016 entries for 2018 and only 744 for 2017, this is important to consider when we will split the data set."
   ]
  },
  {
   "cell_type": "code",
   "execution_count": 74,
   "metadata": {},
   "outputs": [
    {
     "data": {
      "text/html": [
       "<div>\n",
       "<style scoped>\n",
       "    .dataframe tbody tr th:only-of-type {\n",
       "        vertical-align: middle;\n",
       "    }\n",
       "\n",
       "    .dataframe tbody tr th {\n",
       "        vertical-align: top;\n",
       "    }\n",
       "\n",
       "    .dataframe thead th {\n",
       "        text-align: right;\n",
       "    }\n",
       "</style>\n",
       "<table border=\"1\" class=\"dataframe\">\n",
       "  <thead>\n",
       "    <tr style=\"text-align: right;\">\n",
       "      <th></th>\n",
       "      <th>Date</th>\n",
       "      <th>Rented Bike Count</th>\n",
       "      <th>Hour</th>\n",
       "      <th>Temperature(C)</th>\n",
       "      <th>Humidity(%)</th>\n",
       "      <th>Wind speed (m/s)</th>\n",
       "      <th>Visibility (10m)</th>\n",
       "      <th>Dew point temperature(C)</th>\n",
       "      <th>Solar Radiation (MJ/m2)</th>\n",
       "      <th>Rainfall(mm)</th>\n",
       "      <th>Snowfall (cm)</th>\n",
       "      <th>Seasons</th>\n",
       "      <th>Holiday</th>\n",
       "      <th>Functioning Day</th>\n",
       "      <th>year</th>\n",
       "      <th>day</th>\n",
       "    </tr>\n",
       "  </thead>\n",
       "  <tbody>\n",
       "  </tbody>\n",
       "</table>\n",
       "</div>"
      ],
      "text/plain": [
       "Empty DataFrame\n",
       "Columns: [Date, Rented Bike Count, Hour, Temperature(C), Humidity(%), Wind speed (m/s), Visibility (10m), Dew point temperature(C), Solar Radiation (MJ/m2), Rainfall(mm), Snowfall (cm), Seasons, Holiday, Functioning Day, year, day]\n",
       "Index: []"
      ]
     },
     "execution_count": 74,
     "metadata": {},
     "output_type": "execute_result"
    }
   ],
   "source": [
    "df[(df.year == 2017) & (df.Seasons == \"Spring\")]"
   ]
  },
  {
   "cell_type": "code",
   "execution_count": 75,
   "metadata": {},
   "outputs": [
    {
     "data": {
      "text/plain": [
       "Sunday       1296\n",
       "Tuesday      1272\n",
       "Wednesday    1272\n",
       "Saturday     1248\n",
       "Thursday     1248\n",
       "Friday       1224\n",
       "Monday       1200\n",
       "Name: day, dtype: int64"
      ]
     },
     "execution_count": 75,
     "metadata": {},
     "output_type": "execute_result"
    },
    {
     "data": {
      "image/png": "[encoded data removed]",
      "text/plain": [
       "<Figure size 432x288 with 1 Axes>"
      ]
     },
     "metadata": {},
     "output_type": "display_data"
    }
   ],
   "source": [
    "sns.countplot(x=\"day\", data=df)\n",
    "df.day.value_counts()"
   ]
  },
  {
   "cell_type": "markdown",
   "metadata": {},
   "source": [
    "The information according to the days od the week is prety weell spreed\n",
    "\n",
    "Finally lets explore the data according to the season"
   ]
  },
  {
   "cell_type": "code",
   "execution_count": 76,
   "metadata": {},
   "outputs": [
    {
     "data": {
      "text/plain": [
       "<matplotlib.axes._subplots.AxesSubplot at 0x189b46fc0b8>"
      ]
     },
     "execution_count": 76,
     "metadata": {},
     "output_type": "execute_result"
    },
    {
     "data": {
      "image/png": "[encoded data removed]",
      "text/plain": [
       "<Figure size 432x288 with 1 Axes>"
      ]
     },
     "metadata": {},
     "output_type": "display_data"
    }
   ],
   "source": [
    "sns.countplot(x=\"Seasons\", hue=\"year\", data=df)"
   ]
  },
  {
   "cell_type": "code",
   "execution_count": 77,
   "metadata": {},
   "outputs": [
    {
     "data": {
      "text/html": [
       "<div>\n",
       "<style scoped>\n",
       "    .dataframe tbody tr th:only-of-type {\n",
       "        vertical-align: middle;\n",
       "    }\n",
       "\n",
       "    .dataframe tbody tr th {\n",
       "        vertical-align: top;\n",
       "    }\n",
       "\n",
       "    .dataframe thead th {\n",
       "        text-align: right;\n",
       "    }\n",
       "</style>\n",
       "<table border=\"1\" class=\"dataframe\">\n",
       "  <thead>\n",
       "    <tr style=\"text-align: right;\">\n",
       "      <th>year</th>\n",
       "      <th>2017</th>\n",
       "      <th>2018</th>\n",
       "    </tr>\n",
       "    <tr>\n",
       "      <th>Seasons</th>\n",
       "      <th></th>\n",
       "      <th></th>\n",
       "    </tr>\n",
       "  </thead>\n",
       "  <tbody>\n",
       "    <tr>\n",
       "      <th>Autumn</th>\n",
       "      <td>0</td>\n",
       "      <td>2184</td>\n",
       "    </tr>\n",
       "    <tr>\n",
       "      <th>Spring</th>\n",
       "      <td>0</td>\n",
       "      <td>2208</td>\n",
       "    </tr>\n",
       "    <tr>\n",
       "      <th>Summer</th>\n",
       "      <td>0</td>\n",
       "      <td>2208</td>\n",
       "    </tr>\n",
       "    <tr>\n",
       "      <th>Winter</th>\n",
       "      <td>744</td>\n",
       "      <td>1416</td>\n",
       "    </tr>\n",
       "  </tbody>\n",
       "</table>\n",
       "</div>"
      ],
      "text/plain": [
       "year     2017  2018\n",
       "Seasons            \n",
       "Autumn      0  2184\n",
       "Spring      0  2208\n",
       "Summer      0  2208\n",
       "Winter    744  1416"
      ]
     },
     "execution_count": 77,
     "metadata": {},
     "output_type": "execute_result"
    }
   ],
   "source": [
    "pd.crosstab(df.Seasons,df.year)"
   ]
  },
  {
   "cell_type": "markdown",
   "metadata": {},
   "source": [
    "It is clear that there are no data available for any season except for winter in the year 2017"
   ]
  },
  {
   "cell_type": "markdown",
   "metadata": {},
   "source": [
    "Finally we can see that we have similar values for all seasons, this means tha the winter data for 2018 is less. We can see this with the following table"
   ]
  },
  {
   "cell_type": "markdown",
   "metadata": {},
   "source": [
    "We can see that we have more entries in the data set in summer than in winter"
   ]
  },
  {
   "cell_type": "markdown",
   "metadata": {},
   "source": [
    "# Exploring the amount of rented bikes\n",
    "\n",
    "realtion between the number of reting bikes and several conditions such as temperature humidity or the hour of the day, might be very important"
   ]
  },
  {
   "cell_type": "code",
   "execution_count": 78,
   "metadata": {},
   "outputs": [
    {
     "data": {
      "text/plain": [
       "<matplotlib.axes._subplots.AxesSubplot at 0x189b475b710>"
      ]
     },
     "execution_count": 78,
     "metadata": {},
     "output_type": "execute_result"
    },
    {
     "data": {
      "image/png": "[encoded data removed]",
      "text/plain": [
       "<Figure size 720x432 with 1 Axes>"
      ]
     },
     "metadata": {},
     "output_type": "display_data"
    }
   ],
   "source": [
    "plt.figure(figsize=(10, 6))\n",
    "sns.barplot(data=df, x=\"Hour\", y=tv)"
   ]
  },
  {
   "cell_type": "markdown",
   "metadata": {},
   "source": [
    "The first insigth we gain is that generally bikes are rented more during the afternoon  between 17 and 20 h and in the early morning around 8 am"
   ]
  },
  {
   "cell_type": "markdown",
   "metadata": {},
   "source": [
    "## exploring the weather condition\n",
    "\n",
    "Let now explore some of the weather conditions, a good visualization is to do a correaltion plot. \n",
    "\n",
    "To do that lets first explore the variable separately\n"
   ]
  },
  {
   "cell_type": "code",
   "execution_count": 79,
   "metadata": {},
   "outputs": [
    {
     "data": {
      "text/plain": [
       "<matplotlib.axes._subplots.AxesSubplot at 0x189b4849940>"
      ]
     },
     "execution_count": 79,
     "metadata": {},
     "output_type": "execute_result"
    },
    {
     "data": {
      "image/png": "[encoded data removed]",
      "text/plain": [
       "<Figure size 432x288 with 1 Axes>"
      ]
     },
     "metadata": {},
     "output_type": "display_data"
    }
   ],
   "source": [
    "sns.histplot(data=df, x=\"Temperature(C)\")"
   ]
  },
  {
   "cell_type": "markdown",
   "metadata": {},
   "source": [
    "We can observe that the temperature  varies from -20 ºC to up to 40 ºC "
   ]
  },
  {
   "cell_type": "code",
   "execution_count": 80,
   "metadata": {},
   "outputs": [
    {
     "data": {
      "text/plain": [
       "<matplotlib.axes._subplots.AxesSubplot at 0x189b52d0128>"
      ]
     },
     "execution_count": 80,
     "metadata": {},
     "output_type": "execute_result"
    },
    {
     "data": {
      "image/png": "[encoded data removed]",
      "text/plain": [
       "<Figure size 432x288 with 1 Axes>"
      ]
     },
     "metadata": {},
     "output_type": "display_data"
    }
   ],
   "source": [
    "sns.histplot(data=df, x=\"Humidity(%)\")"
   ]
  },
  {
   "cell_type": "markdown",
   "metadata": {},
   "source": [
    "We can observe that the temperature  varies from around 20% to nearly 100%"
   ]
  },
  {
   "cell_type": "code",
   "execution_count": 81,
   "metadata": {},
   "outputs": [
    {
     "data": {
      "text/plain": [
       "0.0    8232\n",
       "0.5     116\n",
       "1.0      66\n",
       "1.5      56\n",
       "0.1      46\n",
       "2.0      31\n",
       "2.5      23\n",
       "0.2      20\n",
       "3.5      18\n",
       "0.4      16\n",
       "Name: Rainfall(mm), dtype: int64"
      ]
     },
     "execution_count": 81,
     "metadata": {},
     "output_type": "execute_result"
    }
   ],
   "source": [
    "df[\"Rainfall(mm)\"].value_counts().head(10)"
   ]
  },
  {
   "cell_type": "code",
   "execution_count": 82,
   "metadata": {},
   "outputs": [],
   "source": [
    "def plot_reting_with_condition(condition, bins, labels):\n",
    "    df2 = df.copy()\n",
    "    df2[\"new\"] = pd.cut(df[condition], bins, labels=labels)\n",
    "    ax = sns.barplot(data=df2, x=\"new\", y=\"Rented Bike Count\")\n",
    "    plt.ylabel(\"Sum of rented bikes\")\n",
    "    plt.xlabel(condition)\n",
    "    return ax"
   ]
  },
  {
   "cell_type": "code",
   "execution_count": 83,
   "metadata": {},
   "outputs": [
    {
     "data": {
      "text/plain": [
       "<matplotlib.axes._subplots.AxesSubplot at 0x189b53e8518>"
      ]
     },
     "execution_count": 83,
     "metadata": {},
     "output_type": "execute_result"
    },
    {
     "data": {
      "image/png": "[encoded data removed]",
      "text/plain": [
       "<Figure size 432x288 with 1 Axes>"
      ]
     },
     "metadata": {},
     "output_type": "display_data"
    }
   ],
   "source": [
    "t_bins = [-20, 0, 10, 20, 30, 40]\n",
    "labels = [\"very cold\", \"cold\", \"mild\", \"hot\", \"very hot\"]\n",
    "plot_reting_with_condition(\"Temperature(C)\", t_bins, labels)"
   ]
  },
  {
   "cell_type": "code",
   "execution_count": 84,
   "metadata": {},
   "outputs": [
    {
     "data": {
      "text/plain": [
       "<matplotlib.axes._subplots.AxesSubplot at 0x189b54a9518>"
      ]
     },
     "execution_count": 84,
     "metadata": {},
     "output_type": "execute_result"
    },
    {
     "data": {
      "image/png": "[encoded data removed]",
      "text/plain": [
       "<Figure size 432x288 with 1 Axes>"
      ]
     },
     "metadata": {},
     "output_type": "display_data"
    }
   ],
   "source": [
    "t_bins = [ 0, 20, 40, 60, 80, 100]\n",
    "labels = [\"very dry\", \"dry\", \"normal\", \"hummit\", \"very hummit\"]\n",
    "plot_reting_with_condition(\"Humidity(%)\", t_bins, labels)"
   ]
  },
  {
   "cell_type": "markdown",
   "metadata": {},
   "source": [
    "The to grapths from above reveal that people do not rent bikes when:\n",
    "- is very hummit.\n",
    "- when is very cold."
   ]
  },
  {
   "cell_type": "markdown",
   "metadata": {},
   "source": [
    "# Study the correlations between weahter conditions and bike renting\n",
    "\n",
    "The bike renting is probably very correlated or anticorrelated with the weather conditions, therefore let's study the realtion with the amount of bikes rented and several parameters.\n",
    "- Temperature\n",
    "- HUmidity\n",
    "- Wind speed\n",
    "- Visibility\n",
    "- etc ..."
   ]
  },
  {
   "cell_type": "code",
   "execution_count": 85,
   "metadata": {},
   "outputs": [
    {
     "data": {
      "text/html": [
       "<div>\n",
       "<style scoped>\n",
       "    .dataframe tbody tr th:only-of-type {\n",
       "        vertical-align: middle;\n",
       "    }\n",
       "\n",
       "    .dataframe tbody tr th {\n",
       "        vertical-align: top;\n",
       "    }\n",
       "\n",
       "    .dataframe thead th {\n",
       "        text-align: right;\n",
       "    }\n",
       "</style>\n",
       "<table border=\"1\" class=\"dataframe\">\n",
       "  <thead>\n",
       "    <tr style=\"text-align: right;\">\n",
       "      <th></th>\n",
       "      <th>Rented Bike Count</th>\n",
       "      <th>Temperature(C)</th>\n",
       "      <th>Humidity(%)</th>\n",
       "      <th>Wind speed (m/s)</th>\n",
       "      <th>Visibility (10m)</th>\n",
       "      <th>Dew point temperature(C)</th>\n",
       "      <th>Solar Radiation (MJ/m2)</th>\n",
       "      <th>Rainfall(mm)</th>\n",
       "      <th>Snowfall (cm)</th>\n",
       "    </tr>\n",
       "  </thead>\n",
       "  <tbody>\n",
       "    <tr>\n",
       "      <th>0</th>\n",
       "      <td>254</td>\n",
       "      <td>-5.2</td>\n",
       "      <td>37</td>\n",
       "      <td>2.2</td>\n",
       "      <td>2000</td>\n",
       "      <td>-17.6</td>\n",
       "      <td>0.0</td>\n",
       "      <td>0.0</td>\n",
       "      <td>0.0</td>\n",
       "    </tr>\n",
       "    <tr>\n",
       "      <th>1</th>\n",
       "      <td>204</td>\n",
       "      <td>-5.5</td>\n",
       "      <td>38</td>\n",
       "      <td>0.8</td>\n",
       "      <td>2000</td>\n",
       "      <td>-17.6</td>\n",
       "      <td>0.0</td>\n",
       "      <td>0.0</td>\n",
       "      <td>0.0</td>\n",
       "    </tr>\n",
       "    <tr>\n",
       "      <th>2</th>\n",
       "      <td>173</td>\n",
       "      <td>-6.0</td>\n",
       "      <td>39</td>\n",
       "      <td>1.0</td>\n",
       "      <td>2000</td>\n",
       "      <td>-17.7</td>\n",
       "      <td>0.0</td>\n",
       "      <td>0.0</td>\n",
       "      <td>0.0</td>\n",
       "    </tr>\n",
       "    <tr>\n",
       "      <th>3</th>\n",
       "      <td>107</td>\n",
       "      <td>-6.2</td>\n",
       "      <td>40</td>\n",
       "      <td>0.9</td>\n",
       "      <td>2000</td>\n",
       "      <td>-17.6</td>\n",
       "      <td>0.0</td>\n",
       "      <td>0.0</td>\n",
       "      <td>0.0</td>\n",
       "    </tr>\n",
       "    <tr>\n",
       "      <th>4</th>\n",
       "      <td>78</td>\n",
       "      <td>-6.0</td>\n",
       "      <td>36</td>\n",
       "      <td>2.3</td>\n",
       "      <td>2000</td>\n",
       "      <td>-18.6</td>\n",
       "      <td>0.0</td>\n",
       "      <td>0.0</td>\n",
       "      <td>0.0</td>\n",
       "    </tr>\n",
       "  </tbody>\n",
       "</table>\n",
       "</div>"
      ],
      "text/plain": [
       "   Rented Bike Count  Temperature(C)  Humidity(%)  Wind speed (m/s)  \\\n",
       "0                254            -5.2           37               2.2   \n",
       "1                204            -5.5           38               0.8   \n",
       "2                173            -6.0           39               1.0   \n",
       "3                107            -6.2           40               0.9   \n",
       "4                 78            -6.0           36               2.3   \n",
       "\n",
       "   Visibility (10m)  Dew point temperature(C)  Solar Radiation (MJ/m2)  \\\n",
       "0              2000                     -17.6                      0.0   \n",
       "1              2000                     -17.6                      0.0   \n",
       "2              2000                     -17.7                      0.0   \n",
       "3              2000                     -17.6                      0.0   \n",
       "4              2000                     -18.6                      0.0   \n",
       "\n",
       "   Rainfall(mm)  Snowfall (cm)  \n",
       "0           0.0            0.0  \n",
       "1           0.0            0.0  \n",
       "2           0.0            0.0  \n",
       "3           0.0            0.0  \n",
       "4           0.0            0.0  "
      ]
     },
     "execution_count": 85,
     "metadata": {},
     "output_type": "execute_result"
    }
   ],
   "source": [
    "weather_cols = [\"Rented Bike Count\", \"Temperature(C)\", \"Humidity(%)\", \"Wind speed (m/s)\", \"Visibility (10m)\", \"Dew point temperature(C)\",\\\n",
    "                \"Solar Radiation (MJ/m2)\", \"Rainfall(mm)\", \"Snowfall (cm)\"]\n",
    "\n",
    "df_weather = df[weather_cols]\n",
    "df_weather.head()"
   ]
  },
  {
   "cell_type": "code",
   "execution_count": 86,
   "metadata": {},
   "outputs": [
    {
     "data": {
      "text/plain": [
       "array([[<matplotlib.axes._subplots.AxesSubplot object at 0x00000189B54FABE0>,\n",
       "        <matplotlib.axes._subplots.AxesSubplot object at 0x00000189B46CDE48>,\n",
       "        <matplotlib.axes._subplots.AxesSubplot object at 0x00000189B465B5C0>,\n",
       "        <matplotlib.axes._subplots.AxesSubplot object at 0x00000189B55B0E80>],\n",
       "       [<matplotlib.axes._subplots.AxesSubplot object at 0x00000189B4679940>,\n",
       "        <matplotlib.axes._subplots.AxesSubplot object at 0x00000189B4679978>,\n",
       "        <matplotlib.axes._subplots.AxesSubplot object at 0x00000189B350FE80>,\n",
       "        <matplotlib.axes._subplots.AxesSubplot object at 0x00000189A840A940>],\n",
       "       [<matplotlib.axes._subplots.AxesSubplot object at 0x00000189B1503400>,\n",
       "        <matplotlib.axes._subplots.AxesSubplot object at 0x00000189A8424E80>,\n",
       "        <matplotlib.axes._subplots.AxesSubplot object at 0x00000189A8450940>,\n",
       "        <matplotlib.axes._subplots.AxesSubplot object at 0x00000189A8480400>],\n",
       "       [<matplotlib.axes._subplots.AxesSubplot object at 0x00000189A84A6E80>,\n",
       "        <matplotlib.axes._subplots.AxesSubplot object at 0x00000189A84D5940>,\n",
       "        <matplotlib.axes._subplots.AxesSubplot object at 0x00000189A8504400>,\n",
       "        <matplotlib.axes._subplots.AxesSubplot object at 0x00000189A8529E80>]],\n",
       "      dtype=object)"
      ]
     },
     "execution_count": 86,
     "metadata": {},
     "output_type": "execute_result"
    },
    {
     "data": {
      "image/png": "[encoded data removed]",
      "text/plain": [
       "<Figure size 864x576 with 16 Axes>"
      ]
     },
     "metadata": {},
     "output_type": "display_data"
    }
   ],
   "source": [
    "from pandas.plotting import scatter_matrix\n",
    "\n",
    "attr = [\"Rented Bike Count\", \"Temperature(C)\", \"Humidity(%)\", \"Wind speed (m/s)\"]\n",
    "scatter_matrix(df_weather[attr], figsize=(12,8))"
   ]
  },
  {
   "cell_type": "markdown",
   "metadata": {},
   "source": [
    "The correlation between this variables can be calculated with a pearson correlation matrix.\n",
    "- High values of correlation indicate that when 1 variable increases the second two\n",
    "- Low values of correlation indicate the opposite\n",
    "\n",
    "In this sense we can see that the renting of bikes is positive correlated with the temperature. Let's keep exploring this variable"
   ]
  },
  {
   "cell_type": "code",
   "execution_count": 87,
   "metadata": {},
   "outputs": [
    {
     "data": {
      "image/png": "[encoded data removed]",
      "text/plain": [
       "<Figure size 504x360 with 2 Axes>"
      ]
     },
     "metadata": {},
     "output_type": "display_data"
    }
   ],
   "source": [
    "corr = df_weather.corr(method='pearson')\n",
    "mask = np.zeros_like(corr)\n",
    "\n",
    "mask[np.triu_indices_from(mask)] = True\n",
    "\n",
    "with sns.axes_style(\"white\"):\n",
    "    f, ax = plt.subplots(figsize=(7, 5))\n",
    "    ax = sns.heatmap(corr, mask=mask, square=True, cmap=\"inferno_r\")\n",
    "#sns.heatmap(corr, cmap=\"inferno_r\")"
   ]
  },
  {
   "cell_type": "markdown",
   "metadata": {},
   "source": [
    "From the correlation map we observe that the \"rented bike count\" is highly correlate with:\n",
    "- temperature and dew point temperature, \n",
    "- solar radiation \n",
    "- visibility. \n",
    "\n",
    "This means whne this variaables are high (e.g.: high temperature) more bikes are rented.\n",
    "\n",
    "\n",
    "\n",
    "Similarly is anti-correlated with:\n",
    "- rain \n",
    "- snow \n",
    "\n",
    "This indicates that less people get the bikes when is raining or when is snowing.\n"
   ]
  },
  {
   "cell_type": "code",
   "execution_count": 88,
   "metadata": {},
   "outputs": [],
   "source": [
    "#from sklearn.preprocessing import StandardScaler\n",
    "#scaler = StandardScaler()\n",
    "#df_weather_st = scaler.fit_transform(df_weather)"
   ]
  },
  {
   "cell_type": "markdown",
   "metadata": {},
   "source": [
    "# Feature Engineering\n",
    "\n",
    "The first features we added are previously: \n",
    "\n",
    "- **The day of the week:** this must be very important since, for example on Sundays the amount of bikes rented is less\n",
    "- **The year:** The number of bikes rented in 2017 correspond only to winter Season and there much less"
   ]
  },
  {
   "cell_type": "code",
   "execution_count": 89,
   "metadata": {},
   "outputs": [],
   "source": [
    "df[\"month\"] = df.Date.dt.month"
   ]
  },
  {
   "cell_type": "markdown",
   "metadata": {},
   "source": [
    "The month and Hour values can be tricky. For example january month 0 is much closer to december month 11 than to april month 3. Similarly the hour 1 is closer to 24 than to hour 6. Lets indicate about this circularity to our data."
   ]
  },
  {
   "cell_type": "code",
   "execution_count": 90,
   "metadata": {},
   "outputs": [],
   "source": [
    "df['cos_month'] = np.cos((df.month) / 12 * 2 * np.pi)\n",
    "df['sin_month'] = np.sin((df.month) / 12 * 2 * np.pi)"
   ]
  },
  {
   "cell_type": "code",
   "execution_count": 91,
   "metadata": {},
   "outputs": [],
   "source": [
    "df['cos_hour'] = np.cos((df.Hour) / 24 * 2 * np.pi)\n",
    "df['sin_hour'] = np.sin((df.Hour) / 24 * 2 * np.pi)\n",
    "df = df.drop([\"Date\", \"Hour\", \"month\"], axis=1)"
   ]
  },
  {
   "cell_type": "code",
   "execution_count": 92,
   "metadata": {},
   "outputs": [
    {
     "data": {
      "text/html": [
       "<div>\n",
       "<style scoped>\n",
       "    .dataframe tbody tr th:only-of-type {\n",
       "        vertical-align: middle;\n",
       "    }\n",
       "\n",
       "    .dataframe tbody tr th {\n",
       "        vertical-align: top;\n",
       "    }\n",
       "\n",
       "    .dataframe thead th {\n",
       "        text-align: right;\n",
       "    }\n",
       "</style>\n",
       "<table border=\"1\" class=\"dataframe\">\n",
       "  <thead>\n",
       "    <tr style=\"text-align: right;\">\n",
       "      <th></th>\n",
       "      <th>Rented Bike Count</th>\n",
       "      <th>Temperature(C)</th>\n",
       "      <th>Humidity(%)</th>\n",
       "      <th>Wind speed (m/s)</th>\n",
       "      <th>Visibility (10m)</th>\n",
       "      <th>Dew point temperature(C)</th>\n",
       "      <th>Solar Radiation (MJ/m2)</th>\n",
       "      <th>Rainfall(mm)</th>\n",
       "      <th>Snowfall (cm)</th>\n",
       "      <th>Seasons</th>\n",
       "      <th>Holiday</th>\n",
       "      <th>Functioning Day</th>\n",
       "      <th>year</th>\n",
       "      <th>day</th>\n",
       "      <th>cos_month</th>\n",
       "      <th>sin_month</th>\n",
       "      <th>cos_hour</th>\n",
       "      <th>sin_hour</th>\n",
       "    </tr>\n",
       "  </thead>\n",
       "  <tbody>\n",
       "    <tr>\n",
       "      <th>120</th>\n",
       "      <td>145</td>\n",
       "      <td>-2.8</td>\n",
       "      <td>77</td>\n",
       "      <td>0.0</td>\n",
       "      <td>331</td>\n",
       "      <td>-6.2</td>\n",
       "      <td>0.0</td>\n",
       "      <td>0.1</td>\n",
       "      <td>0.1</td>\n",
       "      <td>Winter</td>\n",
       "      <td>No Holiday</td>\n",
       "      <td>Yes</td>\n",
       "      <td>2017</td>\n",
       "      <td>Monday</td>\n",
       "      <td>-1.0</td>\n",
       "      <td>1.224647e-16</td>\n",
       "      <td>1.000000</td>\n",
       "      <td>0.000000</td>\n",
       "    </tr>\n",
       "    <tr>\n",
       "      <th>121</th>\n",
       "      <td>144</td>\n",
       "      <td>-3.0</td>\n",
       "      <td>79</td>\n",
       "      <td>0.0</td>\n",
       "      <td>293</td>\n",
       "      <td>-6.1</td>\n",
       "      <td>0.0</td>\n",
       "      <td>0.0</td>\n",
       "      <td>0.3</td>\n",
       "      <td>Winter</td>\n",
       "      <td>No Holiday</td>\n",
       "      <td>Yes</td>\n",
       "      <td>2017</td>\n",
       "      <td>Monday</td>\n",
       "      <td>-1.0</td>\n",
       "      <td>1.224647e-16</td>\n",
       "      <td>0.965926</td>\n",
       "      <td>0.258819</td>\n",
       "    </tr>\n",
       "    <tr>\n",
       "      <th>122</th>\n",
       "      <td>117</td>\n",
       "      <td>-3.0</td>\n",
       "      <td>79</td>\n",
       "      <td>0.0</td>\n",
       "      <td>1862</td>\n",
       "      <td>-6.1</td>\n",
       "      <td>0.0</td>\n",
       "      <td>0.0</td>\n",
       "      <td>0.4</td>\n",
       "      <td>Winter</td>\n",
       "      <td>No Holiday</td>\n",
       "      <td>Yes</td>\n",
       "      <td>2017</td>\n",
       "      <td>Monday</td>\n",
       "      <td>-1.0</td>\n",
       "      <td>1.224647e-16</td>\n",
       "      <td>0.866025</td>\n",
       "      <td>0.500000</td>\n",
       "    </tr>\n",
       "    <tr>\n",
       "      <th>123</th>\n",
       "      <td>78</td>\n",
       "      <td>-3.2</td>\n",
       "      <td>78</td>\n",
       "      <td>0.0</td>\n",
       "      <td>1808</td>\n",
       "      <td>-6.4</td>\n",
       "      <td>0.0</td>\n",
       "      <td>0.2</td>\n",
       "      <td>0.4</td>\n",
       "      <td>Winter</td>\n",
       "      <td>No Holiday</td>\n",
       "      <td>Yes</td>\n",
       "      <td>2017</td>\n",
       "      <td>Monday</td>\n",
       "      <td>-1.0</td>\n",
       "      <td>1.224647e-16</td>\n",
       "      <td>0.707107</td>\n",
       "      <td>0.707107</td>\n",
       "    </tr>\n",
       "    <tr>\n",
       "      <th>124</th>\n",
       "      <td>58</td>\n",
       "      <td>-3.4</td>\n",
       "      <td>75</td>\n",
       "      <td>0.0</td>\n",
       "      <td>1982</td>\n",
       "      <td>-7.2</td>\n",
       "      <td>0.0</td>\n",
       "      <td>0.0</td>\n",
       "      <td>0.4</td>\n",
       "      <td>Winter</td>\n",
       "      <td>No Holiday</td>\n",
       "      <td>Yes</td>\n",
       "      <td>2017</td>\n",
       "      <td>Monday</td>\n",
       "      <td>-1.0</td>\n",
       "      <td>1.224647e-16</td>\n",
       "      <td>0.500000</td>\n",
       "      <td>0.866025</td>\n",
       "    </tr>\n",
       "    <tr>\n",
       "      <th>...</th>\n",
       "      <td>...</td>\n",
       "      <td>...</td>\n",
       "      <td>...</td>\n",
       "      <td>...</td>\n",
       "      <td>...</td>\n",
       "      <td>...</td>\n",
       "      <td>...</td>\n",
       "      <td>...</td>\n",
       "      <td>...</td>\n",
       "      <td>...</td>\n",
       "      <td>...</td>\n",
       "      <td>...</td>\n",
       "      <td>...</td>\n",
       "      <td>...</td>\n",
       "      <td>...</td>\n",
       "      <td>...</td>\n",
       "      <td>...</td>\n",
       "      <td>...</td>\n",
       "    </tr>\n",
       "    <tr>\n",
       "      <th>8179</th>\n",
       "      <td>0</td>\n",
       "      <td>13.3</td>\n",
       "      <td>72</td>\n",
       "      <td>1.1</td>\n",
       "      <td>234</td>\n",
       "      <td>8.3</td>\n",
       "      <td>0.0</td>\n",
       "      <td>0.0</td>\n",
       "      <td>0.0</td>\n",
       "      <td>Autumn</td>\n",
       "      <td>No Holiday</td>\n",
       "      <td>No</td>\n",
       "      <td>2018</td>\n",
       "      <td>Monday</td>\n",
       "      <td>-1.0</td>\n",
       "      <td>1.224647e-16</td>\n",
       "      <td>0.258819</td>\n",
       "      <td>-0.965926</td>\n",
       "    </tr>\n",
       "    <tr>\n",
       "      <th>8180</th>\n",
       "      <td>0</td>\n",
       "      <td>13.2</td>\n",
       "      <td>73</td>\n",
       "      <td>1.1</td>\n",
       "      <td>246</td>\n",
       "      <td>8.4</td>\n",
       "      <td>0.0</td>\n",
       "      <td>0.0</td>\n",
       "      <td>0.0</td>\n",
       "      <td>Autumn</td>\n",
       "      <td>No Holiday</td>\n",
       "      <td>No</td>\n",
       "      <td>2018</td>\n",
       "      <td>Monday</td>\n",
       "      <td>-1.0</td>\n",
       "      <td>1.224647e-16</td>\n",
       "      <td>0.500000</td>\n",
       "      <td>-0.866025</td>\n",
       "    </tr>\n",
       "    <tr>\n",
       "      <th>8181</th>\n",
       "      <td>0</td>\n",
       "      <td>13.0</td>\n",
       "      <td>76</td>\n",
       "      <td>0.9</td>\n",
       "      <td>231</td>\n",
       "      <td>8.8</td>\n",
       "      <td>0.0</td>\n",
       "      <td>0.0</td>\n",
       "      <td>0.0</td>\n",
       "      <td>Autumn</td>\n",
       "      <td>No Holiday</td>\n",
       "      <td>No</td>\n",
       "      <td>2018</td>\n",
       "      <td>Monday</td>\n",
       "      <td>-1.0</td>\n",
       "      <td>1.224647e-16</td>\n",
       "      <td>0.707107</td>\n",
       "      <td>-0.707107</td>\n",
       "    </tr>\n",
       "    <tr>\n",
       "      <th>8182</th>\n",
       "      <td>0</td>\n",
       "      <td>12.3</td>\n",
       "      <td>73</td>\n",
       "      <td>1.2</td>\n",
       "      <td>277</td>\n",
       "      <td>7.5</td>\n",
       "      <td>0.0</td>\n",
       "      <td>0.0</td>\n",
       "      <td>0.0</td>\n",
       "      <td>Autumn</td>\n",
       "      <td>No Holiday</td>\n",
       "      <td>No</td>\n",
       "      <td>2018</td>\n",
       "      <td>Monday</td>\n",
       "      <td>-1.0</td>\n",
       "      <td>1.224647e-16</td>\n",
       "      <td>0.866025</td>\n",
       "      <td>-0.500000</td>\n",
       "    </tr>\n",
       "    <tr>\n",
       "      <th>8183</th>\n",
       "      <td>0</td>\n",
       "      <td>12.2</td>\n",
       "      <td>74</td>\n",
       "      <td>1.1</td>\n",
       "      <td>291</td>\n",
       "      <td>7.6</td>\n",
       "      <td>0.0</td>\n",
       "      <td>0.0</td>\n",
       "      <td>0.0</td>\n",
       "      <td>Autumn</td>\n",
       "      <td>No Holiday</td>\n",
       "      <td>No</td>\n",
       "      <td>2018</td>\n",
       "      <td>Monday</td>\n",
       "      <td>-1.0</td>\n",
       "      <td>1.224647e-16</td>\n",
       "      <td>0.965926</td>\n",
       "      <td>-0.258819</td>\n",
       "    </tr>\n",
       "  </tbody>\n",
       "</table>\n",
       "<p>720 rows × 18 columns</p>\n",
       "</div>"
      ],
      "text/plain": [
       "      Rented Bike Count  Temperature(C)  Humidity(%)  Wind speed (m/s)  \\\n",
       "120                 145            -2.8           77               0.0   \n",
       "121                 144            -3.0           79               0.0   \n",
       "122                 117            -3.0           79               0.0   \n",
       "123                  78            -3.2           78               0.0   \n",
       "124                  58            -3.4           75               0.0   \n",
       "...                 ...             ...          ...               ...   \n",
       "8179                  0            13.3           72               1.1   \n",
       "8180                  0            13.2           73               1.1   \n",
       "8181                  0            13.0           76               0.9   \n",
       "8182                  0            12.3           73               1.2   \n",
       "8183                  0            12.2           74               1.1   \n",
       "\n",
       "      Visibility (10m)  Dew point temperature(C)  Solar Radiation (MJ/m2)  \\\n",
       "120                331                      -6.2                      0.0   \n",
       "121                293                      -6.1                      0.0   \n",
       "122               1862                      -6.1                      0.0   \n",
       "123               1808                      -6.4                      0.0   \n",
       "124               1982                      -7.2                      0.0   \n",
       "...                ...                       ...                      ...   \n",
       "8179               234                       8.3                      0.0   \n",
       "8180               246                       8.4                      0.0   \n",
       "8181               231                       8.8                      0.0   \n",
       "8182               277                       7.5                      0.0   \n",
       "8183               291                       7.6                      0.0   \n",
       "\n",
       "      Rainfall(mm)  Snowfall (cm) Seasons     Holiday Functioning Day  year  \\\n",
       "120            0.1            0.1  Winter  No Holiday             Yes  2017   \n",
       "121            0.0            0.3  Winter  No Holiday             Yes  2017   \n",
       "122            0.0            0.4  Winter  No Holiday             Yes  2017   \n",
       "123            0.2            0.4  Winter  No Holiday             Yes  2017   \n",
       "124            0.0            0.4  Winter  No Holiday             Yes  2017   \n",
       "...            ...            ...     ...         ...             ...   ...   \n",
       "8179           0.0            0.0  Autumn  No Holiday              No  2018   \n",
       "8180           0.0            0.0  Autumn  No Holiday              No  2018   \n",
       "8181           0.0            0.0  Autumn  No Holiday              No  2018   \n",
       "8182           0.0            0.0  Autumn  No Holiday              No  2018   \n",
       "8183           0.0            0.0  Autumn  No Holiday              No  2018   \n",
       "\n",
       "         day  cos_month     sin_month  cos_hour  sin_hour  \n",
       "120   Monday       -1.0  1.224647e-16  1.000000  0.000000  \n",
       "121   Monday       -1.0  1.224647e-16  0.965926  0.258819  \n",
       "122   Monday       -1.0  1.224647e-16  0.866025  0.500000  \n",
       "123   Monday       -1.0  1.224647e-16  0.707107  0.707107  \n",
       "124   Monday       -1.0  1.224647e-16  0.500000  0.866025  \n",
       "...      ...        ...           ...       ...       ...  \n",
       "8179  Monday       -1.0  1.224647e-16  0.258819 -0.965926  \n",
       "8180  Monday       -1.0  1.224647e-16  0.500000 -0.866025  \n",
       "8181  Monday       -1.0  1.224647e-16  0.707107 -0.707107  \n",
       "8182  Monday       -1.0  1.224647e-16  0.866025 -0.500000  \n",
       "8183  Monday       -1.0  1.224647e-16  0.965926 -0.258819  \n",
       "\n",
       "[720 rows x 18 columns]"
      ]
     },
     "execution_count": 92,
     "metadata": {},
     "output_type": "execute_result"
    }
   ],
   "source": [
    "df[df.cos_month == -1]"
   ]
  },
  {
   "cell_type": "markdown",
   "metadata": {},
   "source": [
    "Finally an important value that can affect is the thermal sensation which is a relation with humidity wind speed and temperature:\n",
    "\n",
    "From Wikipedia we will use the Autralian apparent temperature, (maybe best model due to proximity of australia with Korea)"
   ]
  },
  {
   "cell_type": "code",
   "execution_count": 93,
   "metadata": {},
   "outputs": [],
   "source": [
    "def vapor_pressure(humidity, temperature):\n",
    "    exp = ((17.27 *temperature)/(temperature + 237.7))\n",
    "    vp = humidity/100*6.15**exp\n",
    "    return vp\n",
    "\n",
    "def aparent_temp(temperature, humidity, wind_speed):\n",
    "    return temperature + 0.33 * vapor_pressure(humidity, temperature) -0.7*wind_speed - 4\n"
   ]
  },
  {
   "cell_type": "code",
   "execution_count": 94,
   "metadata": {},
   "outputs": [],
   "source": [
    "apparent_temp = []\n",
    "for row in df.iterrows():\n",
    "    app_temp = aparent_temp(row[1][\"Temperature(C)\"], row[1][\"Humidity(%)\"], row[1][\"Wind speed (m/s)\"])\n",
    "    apparent_temp.append(app_temp)\n",
    "df[\"app_temperature\"] = apparent_temp"
   ]
  },
  {
   "cell_type": "code",
   "execution_count": 95,
   "metadata": {},
   "outputs": [
    {
     "data": {
      "text/plain": [
       "Text(0.5,0,'thermal sensation (ºC)')"
      ]
     },
     "execution_count": 95,
     "metadata": {},
     "output_type": "execute_result"
    },
    {
     "data": {
      "image/png": "[encoded data removed]",
      "text/plain": [
       "<Figure size 432x288 with 1 Axes>"
      ]
     },
     "metadata": {},
     "output_type": "display_data"
    }
   ],
   "source": [
    "sns.histplot(data=df, x=\"app_temperature\")\n",
    "plt.xlabel(\"thermal sensation (ºC)\")"
   ]
  },
  {
   "cell_type": "markdown",
   "metadata": {},
   "source": [
    "# **Data preparation and splitting**"
   ]
  },
  {
   "cell_type": "markdown",
   "metadata": {},
   "source": [
    "Fisrt lest transform the categorical columns into numerical using OneHotEncoder"
   ]
  },
  {
   "cell_type": "code",
   "execution_count": 96,
   "metadata": {},
   "outputs": [
    {
     "data": {
      "text/plain": [
       "Rented Bike Count             int64\n",
       "Temperature(C)              float64\n",
       "Humidity(%)                   int64\n",
       "Wind speed (m/s)            float64\n",
       "Visibility (10m)              int64\n",
       "Dew point temperature(C)    float64\n",
       "Solar Radiation (MJ/m2)     float64\n",
       "Rainfall(mm)                float64\n",
       "Snowfall (cm)               float64\n",
       "Seasons                      object\n",
       "Holiday                      object\n",
       "Functioning Day              object\n",
       "year                          int32\n",
       "day                          object\n",
       "cos_month                   float64\n",
       "sin_month                   float64\n",
       "cos_hour                    float64\n",
       "sin_hour                    float64\n",
       "app_temperature             float64\n",
       "dtype: object"
      ]
     },
     "execution_count": 96,
     "metadata": {},
     "output_type": "execute_result"
    }
   ],
   "source": [
    "df.dtypes"
   ]
  },
  {
   "cell_type": "code",
   "execution_count": 97,
   "metadata": {},
   "outputs": [
    {
     "data": {
      "text/html": [
       "<div>\n",
       "<style scoped>\n",
       "    .dataframe tbody tr th:only-of-type {\n",
       "        vertical-align: middle;\n",
       "    }\n",
       "\n",
       "    .dataframe tbody tr th {\n",
       "        vertical-align: top;\n",
       "    }\n",
       "\n",
       "    .dataframe thead th {\n",
       "        text-align: right;\n",
       "    }\n",
       "</style>\n",
       "<table border=\"1\" class=\"dataframe\">\n",
       "  <thead>\n",
       "    <tr style=\"text-align: right;\">\n",
       "      <th></th>\n",
       "      <th>Rented Bike Count</th>\n",
       "      <th>Temperature(C)</th>\n",
       "      <th>Humidity(%)</th>\n",
       "      <th>Wind speed (m/s)</th>\n",
       "      <th>Visibility (10m)</th>\n",
       "      <th>Dew point temperature(C)</th>\n",
       "      <th>Solar Radiation (MJ/m2)</th>\n",
       "      <th>Rainfall(mm)</th>\n",
       "      <th>Snowfall (cm)</th>\n",
       "      <th>Seasons</th>\n",
       "      <th>Holiday</th>\n",
       "      <th>Functioning Day</th>\n",
       "      <th>year</th>\n",
       "      <th>day</th>\n",
       "      <th>cos_month</th>\n",
       "      <th>sin_month</th>\n",
       "      <th>cos_hour</th>\n",
       "      <th>sin_hour</th>\n",
       "      <th>app_temperature</th>\n",
       "    </tr>\n",
       "  </thead>\n",
       "  <tbody>\n",
       "    <tr>\n",
       "      <th>0</th>\n",
       "      <td>254</td>\n",
       "      <td>-5.2</td>\n",
       "      <td>37</td>\n",
       "      <td>2.2</td>\n",
       "      <td>2000</td>\n",
       "      <td>-17.6</td>\n",
       "      <td>0.0</td>\n",
       "      <td>0.0</td>\n",
       "      <td>0.0</td>\n",
       "      <td>Winter</td>\n",
       "      <td>No Holiday</td>\n",
       "      <td>Yes</td>\n",
       "      <td>2017</td>\n",
       "      <td>Thursday</td>\n",
       "      <td>0.866025</td>\n",
       "      <td>0.5</td>\n",
       "      <td>1.000000</td>\n",
       "      <td>0.000000</td>\n",
       "      <td>-10.679465</td>\n",
       "    </tr>\n",
       "    <tr>\n",
       "      <th>1</th>\n",
       "      <td>204</td>\n",
       "      <td>-5.5</td>\n",
       "      <td>38</td>\n",
       "      <td>0.8</td>\n",
       "      <td>2000</td>\n",
       "      <td>-17.6</td>\n",
       "      <td>0.0</td>\n",
       "      <td>0.0</td>\n",
       "      <td>0.0</td>\n",
       "      <td>Winter</td>\n",
       "      <td>No Holiday</td>\n",
       "      <td>Yes</td>\n",
       "      <td>2017</td>\n",
       "      <td>Thursday</td>\n",
       "      <td>0.866025</td>\n",
       "      <td>0.5</td>\n",
       "      <td>0.965926</td>\n",
       "      <td>0.258819</td>\n",
       "      <td>-10.000352</td>\n",
       "    </tr>\n",
       "    <tr>\n",
       "      <th>2</th>\n",
       "      <td>173</td>\n",
       "      <td>-6.0</td>\n",
       "      <td>39</td>\n",
       "      <td>1.0</td>\n",
       "      <td>2000</td>\n",
       "      <td>-17.7</td>\n",
       "      <td>0.0</td>\n",
       "      <td>0.0</td>\n",
       "      <td>0.0</td>\n",
       "      <td>Winter</td>\n",
       "      <td>No Holiday</td>\n",
       "      <td>Yes</td>\n",
       "      <td>2017</td>\n",
       "      <td>Thursday</td>\n",
       "      <td>0.866025</td>\n",
       "      <td>0.5</td>\n",
       "      <td>0.866025</td>\n",
       "      <td>0.500000</td>\n",
       "      <td>-10.642881</td>\n",
       "    </tr>\n",
       "    <tr>\n",
       "      <th>3</th>\n",
       "      <td>107</td>\n",
       "      <td>-6.2</td>\n",
       "      <td>40</td>\n",
       "      <td>0.9</td>\n",
       "      <td>2000</td>\n",
       "      <td>-17.6</td>\n",
       "      <td>0.0</td>\n",
       "      <td>0.0</td>\n",
       "      <td>0.0</td>\n",
       "      <td>Winter</td>\n",
       "      <td>No Holiday</td>\n",
       "      <td>Yes</td>\n",
       "      <td>2017</td>\n",
       "      <td>Thursday</td>\n",
       "      <td>0.866025</td>\n",
       "      <td>0.5</td>\n",
       "      <td>0.707107</td>\n",
       "      <td>0.707107</td>\n",
       "      <td>-10.773023</td>\n",
       "    </tr>\n",
       "    <tr>\n",
       "      <th>4</th>\n",
       "      <td>78</td>\n",
       "      <td>-6.0</td>\n",
       "      <td>36</td>\n",
       "      <td>2.3</td>\n",
       "      <td>2000</td>\n",
       "      <td>-18.6</td>\n",
       "      <td>0.0</td>\n",
       "      <td>0.0</td>\n",
       "      <td>0.0</td>\n",
       "      <td>Winter</td>\n",
       "      <td>No Holiday</td>\n",
       "      <td>Yes</td>\n",
       "      <td>2017</td>\n",
       "      <td>Thursday</td>\n",
       "      <td>0.866025</td>\n",
       "      <td>0.5</td>\n",
       "      <td>0.500000</td>\n",
       "      <td>0.866025</td>\n",
       "      <td>-11.557275</td>\n",
       "    </tr>\n",
       "  </tbody>\n",
       "</table>\n",
       "</div>"
      ],
      "text/plain": [
       "   Rented Bike Count  Temperature(C)  Humidity(%)  Wind speed (m/s)  \\\n",
       "0                254            -5.2           37               2.2   \n",
       "1                204            -5.5           38               0.8   \n",
       "2                173            -6.0           39               1.0   \n",
       "3                107            -6.2           40               0.9   \n",
       "4                 78            -6.0           36               2.3   \n",
       "\n",
       "   Visibility (10m)  Dew point temperature(C)  Solar Radiation (MJ/m2)  \\\n",
       "0              2000                     -17.6                      0.0   \n",
       "1              2000                     -17.6                      0.0   \n",
       "2              2000                     -17.7                      0.0   \n",
       "3              2000                     -17.6                      0.0   \n",
       "4              2000                     -18.6                      0.0   \n",
       "\n",
       "   Rainfall(mm)  Snowfall (cm) Seasons     Holiday Functioning Day  year  \\\n",
       "0           0.0            0.0  Winter  No Holiday             Yes  2017   \n",
       "1           0.0            0.0  Winter  No Holiday             Yes  2017   \n",
       "2           0.0            0.0  Winter  No Holiday             Yes  2017   \n",
       "3           0.0            0.0  Winter  No Holiday             Yes  2017   \n",
       "4           0.0            0.0  Winter  No Holiday             Yes  2017   \n",
       "\n",
       "        day  cos_month  sin_month  cos_hour  sin_hour  app_temperature  \n",
       "0  Thursday   0.866025        0.5  1.000000  0.000000       -10.679465  \n",
       "1  Thursday   0.866025        0.5  0.965926  0.258819       -10.000352  \n",
       "2  Thursday   0.866025        0.5  0.866025  0.500000       -10.642881  \n",
       "3  Thursday   0.866025        0.5  0.707107  0.707107       -10.773023  \n",
       "4  Thursday   0.866025        0.5  0.500000  0.866025       -11.557275  "
      ]
     },
     "execution_count": 97,
     "metadata": {},
     "output_type": "execute_result"
    }
   ],
   "source": [
    "df.head()"
   ]
  },
  {
   "cell_type": "code",
   "execution_count": 98,
   "metadata": {},
   "outputs": [],
   "source": [
    "df[\"Functioning_Day_int\"]= df[\"Functioning Day\"].map({'Yes': 1, \"No\": 0})\n",
    "df[\"Holiday_int\"] = df.Holiday.map({'No Holiday': 0, \"Holiday\": 1})\n",
    "df2 = df.drop([\"Functioning Day\", \"Holiday\"], axis=1)"
   ]
  },
  {
   "cell_type": "code",
   "execution_count": 99,
   "metadata": {},
   "outputs": [
    {
     "data": {
      "text/html": [
       "<div>\n",
       "<style scoped>\n",
       "    .dataframe tbody tr th:only-of-type {\n",
       "        vertical-align: middle;\n",
       "    }\n",
       "\n",
       "    .dataframe tbody tr th {\n",
       "        vertical-align: top;\n",
       "    }\n",
       "\n",
       "    .dataframe thead th {\n",
       "        text-align: right;\n",
       "    }\n",
       "</style>\n",
       "<table border=\"1\" class=\"dataframe\">\n",
       "  <thead>\n",
       "    <tr style=\"text-align: right;\">\n",
       "      <th></th>\n",
       "      <th>Rented Bike Count</th>\n",
       "      <th>Temperature(C)</th>\n",
       "      <th>Humidity(%)</th>\n",
       "      <th>Wind speed (m/s)</th>\n",
       "      <th>Visibility (10m)</th>\n",
       "      <th>Dew point temperature(C)</th>\n",
       "      <th>Solar Radiation (MJ/m2)</th>\n",
       "      <th>Rainfall(mm)</th>\n",
       "      <th>Snowfall (cm)</th>\n",
       "      <th>Seasons</th>\n",
       "      <th>year</th>\n",
       "      <th>day</th>\n",
       "      <th>cos_month</th>\n",
       "      <th>sin_month</th>\n",
       "      <th>cos_hour</th>\n",
       "      <th>sin_hour</th>\n",
       "      <th>app_temperature</th>\n",
       "      <th>Functioning_Day_int</th>\n",
       "      <th>Holiday_int</th>\n",
       "    </tr>\n",
       "  </thead>\n",
       "  <tbody>\n",
       "    <tr>\n",
       "      <th>0</th>\n",
       "      <td>254</td>\n",
       "      <td>-5.2</td>\n",
       "      <td>37</td>\n",
       "      <td>2.2</td>\n",
       "      <td>2000</td>\n",
       "      <td>-17.6</td>\n",
       "      <td>0.0</td>\n",
       "      <td>0.0</td>\n",
       "      <td>0.0</td>\n",
       "      <td>Winter</td>\n",
       "      <td>2017</td>\n",
       "      <td>Thursday</td>\n",
       "      <td>0.866025</td>\n",
       "      <td>0.5</td>\n",
       "      <td>1.000000</td>\n",
       "      <td>0.000000</td>\n",
       "      <td>-10.679465</td>\n",
       "      <td>1</td>\n",
       "      <td>0</td>\n",
       "    </tr>\n",
       "    <tr>\n",
       "      <th>1</th>\n",
       "      <td>204</td>\n",
       "      <td>-5.5</td>\n",
       "      <td>38</td>\n",
       "      <td>0.8</td>\n",
       "      <td>2000</td>\n",
       "      <td>-17.6</td>\n",
       "      <td>0.0</td>\n",
       "      <td>0.0</td>\n",
       "      <td>0.0</td>\n",
       "      <td>Winter</td>\n",
       "      <td>2017</td>\n",
       "      <td>Thursday</td>\n",
       "      <td>0.866025</td>\n",
       "      <td>0.5</td>\n",
       "      <td>0.965926</td>\n",
       "      <td>0.258819</td>\n",
       "      <td>-10.000352</td>\n",
       "      <td>1</td>\n",
       "      <td>0</td>\n",
       "    </tr>\n",
       "    <tr>\n",
       "      <th>2</th>\n",
       "      <td>173</td>\n",
       "      <td>-6.0</td>\n",
       "      <td>39</td>\n",
       "      <td>1.0</td>\n",
       "      <td>2000</td>\n",
       "      <td>-17.7</td>\n",
       "      <td>0.0</td>\n",
       "      <td>0.0</td>\n",
       "      <td>0.0</td>\n",
       "      <td>Winter</td>\n",
       "      <td>2017</td>\n",
       "      <td>Thursday</td>\n",
       "      <td>0.866025</td>\n",
       "      <td>0.5</td>\n",
       "      <td>0.866025</td>\n",
       "      <td>0.500000</td>\n",
       "      <td>-10.642881</td>\n",
       "      <td>1</td>\n",
       "      <td>0</td>\n",
       "    </tr>\n",
       "    <tr>\n",
       "      <th>3</th>\n",
       "      <td>107</td>\n",
       "      <td>-6.2</td>\n",
       "      <td>40</td>\n",
       "      <td>0.9</td>\n",
       "      <td>2000</td>\n",
       "      <td>-17.6</td>\n",
       "      <td>0.0</td>\n",
       "      <td>0.0</td>\n",
       "      <td>0.0</td>\n",
       "      <td>Winter</td>\n",
       "      <td>2017</td>\n",
       "      <td>Thursday</td>\n",
       "      <td>0.866025</td>\n",
       "      <td>0.5</td>\n",
       "      <td>0.707107</td>\n",
       "      <td>0.707107</td>\n",
       "      <td>-10.773023</td>\n",
       "      <td>1</td>\n",
       "      <td>0</td>\n",
       "    </tr>\n",
       "    <tr>\n",
       "      <th>4</th>\n",
       "      <td>78</td>\n",
       "      <td>-6.0</td>\n",
       "      <td>36</td>\n",
       "      <td>2.3</td>\n",
       "      <td>2000</td>\n",
       "      <td>-18.6</td>\n",
       "      <td>0.0</td>\n",
       "      <td>0.0</td>\n",
       "      <td>0.0</td>\n",
       "      <td>Winter</td>\n",
       "      <td>2017</td>\n",
       "      <td>Thursday</td>\n",
       "      <td>0.866025</td>\n",
       "      <td>0.5</td>\n",
       "      <td>0.500000</td>\n",
       "      <td>0.866025</td>\n",
       "      <td>-11.557275</td>\n",
       "      <td>1</td>\n",
       "      <td>0</td>\n",
       "    </tr>\n",
       "  </tbody>\n",
       "</table>\n",
       "</div>"
      ],
      "text/plain": [
       "   Rented Bike Count  Temperature(C)  Humidity(%)  Wind speed (m/s)  \\\n",
       "0                254            -5.2           37               2.2   \n",
       "1                204            -5.5           38               0.8   \n",
       "2                173            -6.0           39               1.0   \n",
       "3                107            -6.2           40               0.9   \n",
       "4                 78            -6.0           36               2.3   \n",
       "\n",
       "   Visibility (10m)  Dew point temperature(C)  Solar Radiation (MJ/m2)  \\\n",
       "0              2000                     -17.6                      0.0   \n",
       "1              2000                     -17.6                      0.0   \n",
       "2              2000                     -17.7                      0.0   \n",
       "3              2000                     -17.6                      0.0   \n",
       "4              2000                     -18.6                      0.0   \n",
       "\n",
       "   Rainfall(mm)  Snowfall (cm) Seasons  year       day  cos_month  sin_month  \\\n",
       "0           0.0            0.0  Winter  2017  Thursday   0.866025        0.5   \n",
       "1           0.0            0.0  Winter  2017  Thursday   0.866025        0.5   \n",
       "2           0.0            0.0  Winter  2017  Thursday   0.866025        0.5   \n",
       "3           0.0            0.0  Winter  2017  Thursday   0.866025        0.5   \n",
       "4           0.0            0.0  Winter  2017  Thursday   0.866025        0.5   \n",
       "\n",
       "   cos_hour  sin_hour  app_temperature  Functioning_Day_int  Holiday_int  \n",
       "0  1.000000  0.000000       -10.679465                    1            0  \n",
       "1  0.965926  0.258819       -10.000352                    1            0  \n",
       "2  0.866025  0.500000       -10.642881                    1            0  \n",
       "3  0.707107  0.707107       -10.773023                    1            0  \n",
       "4  0.500000  0.866025       -11.557275                    1            0  "
      ]
     },
     "execution_count": 99,
     "metadata": {},
     "output_type": "execute_result"
    }
   ],
   "source": [
    "df2.head()"
   ]
  },
  {
   "cell_type": "code",
   "execution_count": 100,
   "metadata": {},
   "outputs": [
    {
     "data": {
      "text/plain": [
       "Rented Bike Count             int64\n",
       "Temperature(C)              float64\n",
       "Humidity(%)                   int64\n",
       "Wind speed (m/s)            float64\n",
       "Visibility (10m)              int64\n",
       "Dew point temperature(C)    float64\n",
       "Solar Radiation (MJ/m2)     float64\n",
       "Rainfall(mm)                float64\n",
       "Snowfall (cm)               float64\n",
       "Seasons                      object\n",
       "year                          int32\n",
       "day                          object\n",
       "cos_month                   float64\n",
       "sin_month                   float64\n",
       "cos_hour                    float64\n",
       "sin_hour                    float64\n",
       "app_temperature             float64\n",
       "Functioning_Day_int           int64\n",
       "Holiday_int                   int64\n",
       "dtype: object"
      ]
     },
     "execution_count": 100,
     "metadata": {},
     "output_type": "execute_result"
    }
   ],
   "source": [
    "df2.dtypes"
   ]
  },
  {
   "cell_type": "code",
   "execution_count": 101,
   "metadata": {},
   "outputs": [],
   "source": [
    "df_cat = pd.get_dummies(df2.select_dtypes(include='object'))\n",
    "df_float = df2.select_dtypes(exclude='object')"
   ]
  },
  {
   "cell_type": "code",
   "execution_count": 102,
   "metadata": {},
   "outputs": [],
   "source": [
    "df_prep = pd.concat([df_float, df_cat], axis=1)"
   ]
  },
  {
   "cell_type": "markdown",
   "metadata": {},
   "source": [
    "### Splitting the data"
   ]
  },
  {
   "cell_type": "markdown",
   "metadata": {},
   "source": [
    "We need to remember that we do not have many values from 2017 year, and these are only for winter, this parameters might be very important since in 2017 the number of bikes rented was low, therefore we need a stratified split.\n",
    "\n"
   ]
  },
  {
   "cell_type": "code",
   "execution_count": 105,
   "metadata": {},
   "outputs": [
    {
     "data": {
      "text/plain": [
       "2018    8016\n",
       "2017     744\n",
       "Name: year, dtype: int64"
      ]
     },
     "execution_count": 105,
     "metadata": {},
     "output_type": "execute_result"
    }
   ],
   "source": [
    "df_prep.year.value_counts()"
   ]
  },
  {
   "cell_type": "code",
   "execution_count": 106,
   "metadata": {},
   "outputs": [],
   "source": [
    "from sklearn.model_selection import StratifiedShuffleSplit\n",
    "\n",
    "splitter = StratifiedShuffleSplit(n_splits=1, test_size=0.2, random_state=4)\n",
    "for train_index, test_index in splitter.split(df_prep, df_prep.year):\n",
    "    strat_train_set = df_prep[df_prep.index.isin(train_index)]\n",
    "    strat_test_set = df_prep[df_prep.index.isin(test_index)]"
   ]
  },
  {
   "cell_type": "code",
   "execution_count": 107,
   "metadata": {},
   "outputs": [
    {
     "name": "stdout",
     "output_type": "stream",
     "text": [
      "(7008, 28)\n",
      "(1752, 28)\n"
     ]
    }
   ],
   "source": [
    "print(strat_train_set.shape)\n",
    "print(strat_test_set.shape)"
   ]
  },
  {
   "cell_type": "markdown",
   "metadata": {},
   "source": [
    "We can see that year is a int 64 column. Since there are only 2017 and 1028 values we can transform to string and convert it 0 or 1"
   ]
  },
  {
   "cell_type": "code",
   "execution_count": 108,
   "metadata": {},
   "outputs": [],
   "source": [
    "y_train = strat_train_set[tv]\n",
    "X_train = strat_train_set.drop(tv, axis=1)\n",
    "y_test = strat_test_set[tv]\n",
    "X_test = strat_test_set.drop(tv, axis=1)"
   ]
  },
  {
   "cell_type": "code",
   "execution_count": 109,
   "metadata": {},
   "outputs": [
    {
     "data": {
      "text/plain": [
       "Temperature(C)              float64\n",
       "Humidity(%)                   int64\n",
       "Wind speed (m/s)            float64\n",
       "Visibility (10m)              int64\n",
       "Dew point temperature(C)    float64\n",
       "Solar Radiation (MJ/m2)     float64\n",
       "Rainfall(mm)                float64\n",
       "Snowfall (cm)               float64\n",
       "year                          int32\n",
       "cos_month                   float64\n",
       "sin_month                   float64\n",
       "cos_hour                    float64\n",
       "sin_hour                    float64\n",
       "app_temperature             float64\n",
       "Functioning_Day_int           int64\n",
       "Holiday_int                   int64\n",
       "Seasons_Autumn                uint8\n",
       "Seasons_Spring                uint8\n",
       "Seasons_Summer                uint8\n",
       "Seasons_Winter                uint8\n",
       "day_Friday                    uint8\n",
       "day_Monday                    uint8\n",
       "day_Saturday                  uint8\n",
       "day_Sunday                    uint8\n",
       "day_Thursday                  uint8\n",
       "day_Tuesday                   uint8\n",
       "day_Wednesday                 uint8\n",
       "dtype: object"
      ]
     },
     "execution_count": 109,
     "metadata": {},
     "output_type": "execute_result"
    }
   ],
   "source": [
    "X_train.dtypes"
   ]
  },
  {
   "cell_type": "markdown",
   "metadata": {},
   "source": [
    "# **Model selection**\n",
    "\n",
    "\n",
    "Since we have several categorical features, we will initially use a tree based model\n",
    "\n",
    "**XGBoost:**\n",
    "\n",
    "Gradient boosting models generally work very well, a lot of decision trees to reduce variance and learning from previous trees errors (not like random forest)\n"
   ]
  },
  {
   "cell_type": "code",
   "execution_count": 325,
   "metadata": {},
   "outputs": [],
   "source": [
    "from xgboost import XGBRegressor\n",
    "from sklearn.linear_model import Ridge\n",
    "import time\n",
    "from sklearn.model_selection import cross_val_predict, cross_val_score, GridSearchCV\n",
    "from sklearn.metrics import mean_squared_error, mean_absolute_error, make_scorer, r2_score\n",
    "\n",
    "mse_scorer = make_scorer(mean_squared_error)\n",
    "mae_scorer = make_scorer(mean_absolute_error)\n",
    "r2_scorer = make_scorer(r2_score)"
   ]
  },
  {
   "cell_type": "code",
   "execution_count": 122,
   "metadata": {},
   "outputs": [],
   "source": [
    "xgb_param_grid = {\n",
    "    'max_depth': [3, 4, 6],\n",
    "    'colsample_bytree': [0.5, 1],\n",
    "    'n_estimators': [500]\n",
    "}"
   ]
  },
  {
   "cell_type": "code",
   "execution_count": 123,
   "metadata": {},
   "outputs": [],
   "source": [
    "xgb_gs = GridSearchCV(\n",
    "    estimator=XGBRegressor(), \n",
    "    param_grid=xgb_param_grid,\n",
    "    cv=5,\n",
    "    scoring=mae_scorer,\n",
    "    return_train_score=False,\n",
    "    verbose=3,\n",
    "    n_jobs=-1\n",
    ")\n",
    "\n",
    "xgb = XGBRegressor(n_estimators=500, max_depth=5, colsample_bytree=0.7)"
   ]
  },
  {
   "cell_type": "code",
   "execution_count": 382,
   "metadata": {},
   "outputs": [
    {
     "name": "stdout",
     "output_type": "stream",
     "text": [
      "Wall time: 1.6 s\n"
     ]
    },
    {
     "data": {
      "text/plain": [
       "XGBRegressor(base_score=0.5, booster='gbtree', colsample_bylevel=1,\n",
       "       colsample_bynode=1, colsample_bytree=0.7, enable_categorical=False,\n",
       "       gamma=0, gpu_id=-1, importance_type=None,\n",
       "       interaction_constraints='', learning_rate=0.300000012,\n",
       "       max_delta_step=0, max_depth=5, min_child_weight=1, missing=nan,\n",
       "       monotone_constraints='()', n_estimators=500, n_jobs=8,\n",
       "       num_parallel_tree=1, objective='reg:squarederror', predictor='auto',\n",
       "       random_state=0, reg_alpha=0, reg_lambda=1, scale_pos_weight=1,\n",
       "       subsample=1, tree_method='exact', validate_parameters=1,\n",
       "       verbosity=None)"
      ]
     },
     "execution_count": 382,
     "metadata": {},
     "output_type": "execute_result"
    }
   ],
   "source": [
    "%%time\n",
    "xgb.fit(X_train.values, y_train.values)"
   ]
  },
  {
   "cell_type": "code",
   "execution_count": 383,
   "metadata": {},
   "outputs": [
    {
     "name": "stdout",
     "output_type": "stream",
     "text": [
      "Fitting 5 folds for each of 6 candidates, totalling 30 fits\n"
     ]
    },
    {
     "name": "stderr",
     "output_type": "stream",
     "text": [
      "[Parallel(n_jobs=-1)]: Done  26 out of  30 | elapsed:   30.2s remaining:    4.6s\n",
      "[Parallel(n_jobs=-1)]: Done  30 out of  30 | elapsed:   32.3s finished\n"
     ]
    },
    {
     "name": "stdout",
     "output_type": "stream",
     "text": [
      "Wall time: 34.7 s\n"
     ]
    },
    {
     "data": {
      "text/plain": [
       "GridSearchCV(cv=5, error_score='raise',\n",
       "       estimator=XGBRegressor(base_score=None, booster=None, colsample_bylevel=None,\n",
       "       colsample_bynode=None, colsample_bytree=None,\n",
       "       enable_categorical=False, gamma=None, gpu_id=None,\n",
       "       importance_type=None, interaction_constraints=None,\n",
       "       learning_rate=None, max_delta_step=None, max_..._weight=None,\n",
       "       subsample=None, tree_method=None, validate_parameters=None,\n",
       "       verbosity=0),\n",
       "       fit_params=None, iid=True, n_jobs=-1,\n",
       "       param_grid={'max_depth': [3, 4, 6], 'colsample_bytree': [0.5, 1], 'n_estimators': [500]},\n",
       "       pre_dispatch='2*n_jobs', refit=True, return_train_score=False,\n",
       "       scoring=make_scorer(mean_absolute_error), verbose=3)"
      ]
     },
     "execution_count": 383,
     "metadata": {},
     "output_type": "execute_result"
    }
   ],
   "source": [
    "%%time\n",
    "xgb_gs.fit(X_train.values, y_train.values)\n"
   ]
  },
  {
   "cell_type": "code",
   "execution_count": 127,
   "metadata": {},
   "outputs": [],
   "source": [
    "cv_res = pd.DataFrame(xgb_gs.cv_results_).sort_values('mean_test_score')\n",
    "# for more clarity\n",
    "cv_res = cv_res[['mean_test_score'] + [colname for colname in cv_res.columns if 'param_' in colname]]"
   ]
  },
  {
   "cell_type": "code",
   "execution_count": 128,
   "metadata": {},
   "outputs": [
    {
     "data": {
      "text/html": [
       "<div>\n",
       "<style scoped>\n",
       "    .dataframe tbody tr th:only-of-type {\n",
       "        vertical-align: middle;\n",
       "    }\n",
       "\n",
       "    .dataframe tbody tr th {\n",
       "        vertical-align: top;\n",
       "    }\n",
       "\n",
       "    .dataframe thead th {\n",
       "        text-align: right;\n",
       "    }\n",
       "</style>\n",
       "<table border=\"1\" class=\"dataframe\">\n",
       "  <thead>\n",
       "    <tr style=\"text-align: right;\">\n",
       "      <th></th>\n",
       "      <th>mean_test_score</th>\n",
       "      <th>param_colsample_bytree</th>\n",
       "      <th>param_max_depth</th>\n",
       "      <th>param_n_estimators</th>\n",
       "    </tr>\n",
       "  </thead>\n",
       "  <tbody>\n",
       "    <tr>\n",
       "      <th>1</th>\n",
       "      <td>246.586065</td>\n",
       "      <td>0.5</td>\n",
       "      <td>4</td>\n",
       "      <td>500</td>\n",
       "    </tr>\n",
       "    <tr>\n",
       "      <th>2</th>\n",
       "      <td>246.700535</td>\n",
       "      <td>0.5</td>\n",
       "      <td>6</td>\n",
       "      <td>500</td>\n",
       "    </tr>\n",
       "    <tr>\n",
       "      <th>5</th>\n",
       "      <td>249.681153</td>\n",
       "      <td>1</td>\n",
       "      <td>6</td>\n",
       "      <td>500</td>\n",
       "    </tr>\n",
       "    <tr>\n",
       "      <th>0</th>\n",
       "      <td>265.360088</td>\n",
       "      <td>0.5</td>\n",
       "      <td>3</td>\n",
       "      <td>500</td>\n",
       "    </tr>\n",
       "    <tr>\n",
       "      <th>4</th>\n",
       "      <td>268.703015</td>\n",
       "      <td>1</td>\n",
       "      <td>4</td>\n",
       "      <td>500</td>\n",
       "    </tr>\n",
       "  </tbody>\n",
       "</table>\n",
       "</div>"
      ],
      "text/plain": [
       "   mean_test_score param_colsample_bytree param_max_depth param_n_estimators\n",
       "1       246.586065                    0.5               4                500\n",
       "2       246.700535                    0.5               6                500\n",
       "5       249.681153                      1               6                500\n",
       "0       265.360088                    0.5               3                500\n",
       "4       268.703015                      1               4                500"
      ]
     },
     "execution_count": 128,
     "metadata": {},
     "output_type": "execute_result"
    }
   ],
   "source": [
    "cv_res.head()"
   ]
  },
  {
   "cell_type": "markdown",
   "metadata": {},
   "source": [
    "lets evaluate the feture importance"
   ]
  },
  {
   "cell_type": "code",
   "execution_count": 134,
   "metadata": {},
   "outputs": [
    {
     "data": {
      "text/html": [
       "<div>\n",
       "<style scoped>\n",
       "    .dataframe tbody tr th:only-of-type {\n",
       "        vertical-align: middle;\n",
       "    }\n",
       "\n",
       "    .dataframe tbody tr th {\n",
       "        vertical-align: top;\n",
       "    }\n",
       "\n",
       "    .dataframe thead th {\n",
       "        text-align: right;\n",
       "    }\n",
       "</style>\n",
       "<table border=\"1\" class=\"dataframe\">\n",
       "  <thead>\n",
       "    <tr style=\"text-align: right;\">\n",
       "      <th></th>\n",
       "      <th>0</th>\n",
       "    </tr>\n",
       "  </thead>\n",
       "  <tbody>\n",
       "    <tr>\n",
       "      <th>Seasons_Winter</th>\n",
       "      <td>0.477693</td>\n",
       "    </tr>\n",
       "    <tr>\n",
       "      <th>Functioning_Day_int</th>\n",
       "      <td>0.152541</td>\n",
       "    </tr>\n",
       "    <tr>\n",
       "      <th>Temperature(C)</th>\n",
       "      <td>0.074689</td>\n",
       "    </tr>\n",
       "    <tr>\n",
       "      <th>sin_hour</th>\n",
       "      <td>0.068972</td>\n",
       "    </tr>\n",
       "    <tr>\n",
       "      <th>Rainfall(mm)</th>\n",
       "      <td>0.043001</td>\n",
       "    </tr>\n",
       "    <tr>\n",
       "      <th>Seasons_Autumn</th>\n",
       "      <td>0.042405</td>\n",
       "    </tr>\n",
       "    <tr>\n",
       "      <th>cos_hour</th>\n",
       "      <td>0.026075</td>\n",
       "    </tr>\n",
       "    <tr>\n",
       "      <th>Humidity(%)</th>\n",
       "      <td>0.024476</td>\n",
       "    </tr>\n",
       "    <tr>\n",
       "      <th>Solar Radiation (MJ/m2)</th>\n",
       "      <td>0.018277</td>\n",
       "    </tr>\n",
       "    <tr>\n",
       "      <th>day_Sunday</th>\n",
       "      <td>0.008660</td>\n",
       "    </tr>\n",
       "    <tr>\n",
       "      <th>day_Saturday</th>\n",
       "      <td>0.007880</td>\n",
       "    </tr>\n",
       "    <tr>\n",
       "      <th>cos_month</th>\n",
       "      <td>0.007444</td>\n",
       "    </tr>\n",
       "    <tr>\n",
       "      <th>Holiday_int</th>\n",
       "      <td>0.005272</td>\n",
       "    </tr>\n",
       "    <tr>\n",
       "      <th>Seasons_Summer</th>\n",
       "      <td>0.004380</td>\n",
       "    </tr>\n",
       "    <tr>\n",
       "      <th>app_temperature</th>\n",
       "      <td>0.004185</td>\n",
       "    </tr>\n",
       "    <tr>\n",
       "      <th>Dew point temperature(C)</th>\n",
       "      <td>0.004155</td>\n",
       "    </tr>\n",
       "    <tr>\n",
       "      <th>Seasons_Spring</th>\n",
       "      <td>0.003893</td>\n",
       "    </tr>\n",
       "    <tr>\n",
       "      <th>sin_month</th>\n",
       "      <td>0.003553</td>\n",
       "    </tr>\n",
       "    <tr>\n",
       "      <th>year</th>\n",
       "      <td>0.003489</td>\n",
       "    </tr>\n",
       "    <tr>\n",
       "      <th>day_Monday</th>\n",
       "      <td>0.003396</td>\n",
       "    </tr>\n",
       "    <tr>\n",
       "      <th>day_Thursday</th>\n",
       "      <td>0.003201</td>\n",
       "    </tr>\n",
       "    <tr>\n",
       "      <th>day_Wednesday</th>\n",
       "      <td>0.002824</td>\n",
       "    </tr>\n",
       "    <tr>\n",
       "      <th>day_Friday</th>\n",
       "      <td>0.002538</td>\n",
       "    </tr>\n",
       "    <tr>\n",
       "      <th>Visibility (10m)</th>\n",
       "      <td>0.002092</td>\n",
       "    </tr>\n",
       "    <tr>\n",
       "      <th>day_Tuesday</th>\n",
       "      <td>0.001969</td>\n",
       "    </tr>\n",
       "    <tr>\n",
       "      <th>Wind speed (m/s)</th>\n",
       "      <td>0.001828</td>\n",
       "    </tr>\n",
       "    <tr>\n",
       "      <th>Snowfall (cm)</th>\n",
       "      <td>0.001112</td>\n",
       "    </tr>\n",
       "  </tbody>\n",
       "</table>\n",
       "</div>"
      ],
      "text/plain": [
       "                                 0\n",
       "Seasons_Winter            0.477693\n",
       "Functioning_Day_int       0.152541\n",
       "Temperature(C)            0.074689\n",
       "sin_hour                  0.068972\n",
       "Rainfall(mm)              0.043001\n",
       "Seasons_Autumn            0.042405\n",
       "cos_hour                  0.026075\n",
       "Humidity(%)               0.024476\n",
       "Solar Radiation (MJ/m2)   0.018277\n",
       "day_Sunday                0.008660\n",
       "day_Saturday              0.007880\n",
       "cos_month                 0.007444\n",
       "Holiday_int               0.005272\n",
       "Seasons_Summer            0.004380\n",
       "app_temperature           0.004185\n",
       "Dew point temperature(C)  0.004155\n",
       "Seasons_Spring            0.003893\n",
       "sin_month                 0.003553\n",
       "year                      0.003489\n",
       "day_Monday                0.003396\n",
       "day_Thursday              0.003201\n",
       "day_Wednesday             0.002824\n",
       "day_Friday                0.002538\n",
       "Visibility (10m)          0.002092\n",
       "day_Tuesday               0.001969\n",
       "Wind speed (m/s)          0.001828\n",
       "Snowfall (cm)             0.001112"
      ]
     },
     "execution_count": 134,
     "metadata": {},
     "output_type": "execute_result"
    }
   ],
   "source": [
    "feature_importance = pd.DataFrame(index=X_train.columns, data=xgb_gs.best_estimator_.feature_importances_)\n",
    "feature_importance = feature_importance.sort_values(0, ascending=False)\n",
    "feature_importance"
   ]
  },
  {
   "cell_type": "code",
   "execution_count": 161,
   "metadata": {},
   "outputs": [
    {
     "name": "stdout",
     "output_type": "stream",
     "text": [
      "Wall time: 9.57 s\n"
     ]
    }
   ],
   "source": [
    "%%time\n",
    "\n",
    "cv_preds = cross_val_predict(\n",
    "        estimator=xgb_gs.best_estimator_,\n",
    "        X=X_train, \n",
    "        y=y_train,\n",
    "        cv=5,\n",
    "        n_jobs=-1\n",
    "    )"
   ]
  },
  {
   "cell_type": "code",
   "execution_count": 206,
   "metadata": {},
   "outputs": [
    {
     "data": {
      "text/html": [
       "<div>\n",
       "<style scoped>\n",
       "    .dataframe tbody tr th:only-of-type {\n",
       "        vertical-align: middle;\n",
       "    }\n",
       "\n",
       "    .dataframe tbody tr th {\n",
       "        vertical-align: top;\n",
       "    }\n",
       "\n",
       "    .dataframe thead th {\n",
       "        text-align: right;\n",
       "    }\n",
       "</style>\n",
       "<table border=\"1\" class=\"dataframe\">\n",
       "  <thead>\n",
       "    <tr style=\"text-align: right;\">\n",
       "      <th></th>\n",
       "      <th>0</th>\n",
       "      <th>real</th>\n",
       "    </tr>\n",
       "  </thead>\n",
       "  <tbody>\n",
       "    <tr>\n",
       "      <th>0</th>\n",
       "      <td>84.624634</td>\n",
       "      <td>NaN</td>\n",
       "    </tr>\n",
       "    <tr>\n",
       "      <th>1</th>\n",
       "      <td>93.793808</td>\n",
       "      <td>204.0</td>\n",
       "    </tr>\n",
       "    <tr>\n",
       "      <th>2</th>\n",
       "      <td>13.968400</td>\n",
       "      <td>173.0</td>\n",
       "    </tr>\n",
       "    <tr>\n",
       "      <th>3</th>\n",
       "      <td>87.353630</td>\n",
       "      <td>107.0</td>\n",
       "    </tr>\n",
       "    <tr>\n",
       "      <th>4</th>\n",
       "      <td>132.129730</td>\n",
       "      <td>78.0</td>\n",
       "    </tr>\n",
       "    <tr>\n",
       "      <th>...</th>\n",
       "      <td>...</td>\n",
       "      <td>...</td>\n",
       "    </tr>\n",
       "    <tr>\n",
       "      <th>7003</th>\n",
       "      <td>866.057922</td>\n",
       "      <td>0.0</td>\n",
       "    </tr>\n",
       "    <tr>\n",
       "      <th>7004</th>\n",
       "      <td>493.584869</td>\n",
       "      <td>0.0</td>\n",
       "    </tr>\n",
       "    <tr>\n",
       "      <th>7005</th>\n",
       "      <td>469.516693</td>\n",
       "      <td>0.0</td>\n",
       "    </tr>\n",
       "    <tr>\n",
       "      <th>7006</th>\n",
       "      <td>127.059532</td>\n",
       "      <td>0.0</td>\n",
       "    </tr>\n",
       "    <tr>\n",
       "      <th>7007</th>\n",
       "      <td>288.675507</td>\n",
       "      <td>0.0</td>\n",
       "    </tr>\n",
       "  </tbody>\n",
       "</table>\n",
       "<p>7008 rows × 2 columns</p>\n",
       "</div>"
      ],
      "text/plain": [
       "               0   real\n",
       "0      84.624634    NaN\n",
       "1      93.793808  204.0\n",
       "2      13.968400  173.0\n",
       "3      87.353630  107.0\n",
       "4     132.129730   78.0\n",
       "...          ...    ...\n",
       "7003  866.057922    0.0\n",
       "7004  493.584869    0.0\n",
       "7005  469.516693    0.0\n",
       "7006  127.059532    0.0\n",
       "7007  288.675507    0.0\n",
       "\n",
       "[7008 rows x 2 columns]"
      ]
     },
     "execution_count": 206,
     "metadata": {},
     "output_type": "execute_result"
    }
   ],
   "source": [
    "preds = pd.DataFrame(cv_preds)\n",
    "preds['real'] = y_train\n",
    "preds"
   ]
  },
  {
   "cell_type": "markdown",
   "metadata": {},
   "source": [
    "This is really interesting we have several days where the real number of rented bikes is zero and the predicted value is quite high. \n",
    "\n",
    "Let's explore this further"
   ]
  },
  {
   "cell_type": "code",
   "execution_count": 197,
   "metadata": {},
   "outputs": [],
   "source": [
    "index_zero = preds[preds.real == 0].index"
   ]
  },
  {
   "cell_type": "code",
   "execution_count": 202,
   "metadata": {},
   "outputs": [],
   "source": [
    "zero_rented = df[df.index.isin(index_zero)]"
   ]
  },
  {
   "cell_type": "code",
   "execution_count": 210,
   "metadata": {},
   "outputs": [
    {
     "name": "stdout",
     "output_type": "stream",
     "text": [
      "(56, 21)\n"
     ]
    },
    {
     "data": {
      "text/plain": [
       "0"
      ]
     },
     "execution_count": 210,
     "metadata": {},
     "output_type": "execute_result"
    }
   ],
   "source": [
    "print(zero_rented.shape)\n",
    "zero_rented.Functioning_Day_int.sum()"
   ]
  },
  {
   "cell_type": "markdown",
   "metadata": {},
   "source": [
    "All days that the real value was zero where days that the working sytem was not working"
   ]
  },
  {
   "cell_type": "markdown",
   "metadata": {},
   "source": [
    "# Testing our model"
   ]
  },
  {
   "cell_type": "code",
   "execution_count": 350,
   "metadata": {},
   "outputs": [],
   "source": [
    "def calculate_metrics(y_real, y_pred, metric):\n",
    "    return metric(y_real, y_pred)\n",
    "\n",
    "def model_evaluate(model, X_train, y_train, X_test, y_test):\n",
    "    y_pred = model.predict(X_test)\n",
    "    y_pred_train = model.predict(X_train)\n",
    "    metrics = {}\n",
    "    #RMSE Test\n",
    "    rmse_test = np.sqrt(calculate_metrics(y_test, y_pred, mean_squared_error))\n",
    "    #RMSE Train\n",
    "    rmse_train = np.sqrt(calculate_metrics(y_train, y_pred_train, mean_squared_error))\n",
    "    r2_test = calculate_metrics(y_test, y_pred, r2_score)\n",
    "    r2_train = calculate_metrics(y_train, y_pred_train, r2_score)\n",
    "    metrics = {\n",
    "              'RMSE Test': rmse_test,\n",
    "              'RMSE Train': rmse_train,\n",
    "              'r2 Test': r2_test,\n",
    "              'r2 Train': r2_train}\n",
    "\n",
    "    return metrics "
   ]
  },
  {
   "cell_type": "code",
   "execution_count": null,
   "metadata": {},
   "outputs": [],
   "source": [
    "mean_absolute_error(y_test, test_predictions.raw_preds.values)"
   ]
  },
  {
   "cell_type": "code",
   "execution_count": 297,
   "metadata": {},
   "outputs": [
    {
     "data": {
      "text/plain": [
       "18457.018187884885"
      ]
     },
     "execution_count": 297,
     "metadata": {},
     "output_type": "execute_result"
    }
   ],
   "source": [
    "train_pred = xgb_gs.predict(X_train)\n",
    "mean_squared_error(y_train, train_pred)"
   ]
  },
  {
   "cell_type": "code",
   "execution_count": 298,
   "metadata": {},
   "outputs": [
    {
     "data": {
      "text/plain": [
       "0.9558705793359519"
      ]
     },
     "execution_count": 298,
     "metadata": {},
     "output_type": "execute_result"
    }
   ],
   "source": [
    "r2_score(y_train, train_pred)"
   ]
  },
  {
   "cell_type": "code",
   "execution_count": 299,
   "metadata": {},
   "outputs": [
    {
     "data": {
      "text/plain": [
       "0.9007630271092645"
      ]
     },
     "execution_count": 299,
     "metadata": {},
     "output_type": "execute_result"
    }
   ],
   "source": [
    "r2_score(y_test, raw_preds)"
   ]
  },
  {
   "cell_type": "markdown",
   "metadata": {},
   "source": [
    "Lets evaluate where the model may fail, for example lets check if we predict negative values, which should be imposible"
   ]
  },
  {
   "cell_type": "code",
   "execution_count": 357,
   "metadata": {},
   "outputs": [
    {
     "data": {
      "text/html": [
       "<div>\n",
       "<style scoped>\n",
       "    .dataframe tbody tr th:only-of-type {\n",
       "        vertical-align: middle;\n",
       "    }\n",
       "\n",
       "    .dataframe tbody tr th {\n",
       "        vertical-align: top;\n",
       "    }\n",
       "\n",
       "    .dataframe thead th {\n",
       "        text-align: right;\n",
       "    }\n",
       "</style>\n",
       "<table border=\"1\" class=\"dataframe\">\n",
       "  <thead>\n",
       "    <tr style=\"text-align: right;\">\n",
       "      <th></th>\n",
       "      <th>raw_preds</th>\n",
       "      <th>real value</th>\n",
       "    </tr>\n",
       "    <tr>\n",
       "      <th>index</th>\n",
       "      <th></th>\n",
       "      <th></th>\n",
       "    </tr>\n",
       "  </thead>\n",
       "  <tbody>\n",
       "    <tr>\n",
       "      <th>29.0</th>\n",
       "      <td>-0.579016</td>\n",
       "      <td>79.0</td>\n",
       "    </tr>\n",
       "    <tr>\n",
       "      <th>421.0</th>\n",
       "      <td>-44.939438</td>\n",
       "      <td>76.0</td>\n",
       "    </tr>\n",
       "    <tr>\n",
       "      <th>509.0</th>\n",
       "      <td>-82.377380</td>\n",
       "      <td>76.0</td>\n",
       "    </tr>\n",
       "    <tr>\n",
       "      <th>533.0</th>\n",
       "      <td>-69.917191</td>\n",
       "      <td>59.0</td>\n",
       "    </tr>\n",
       "    <tr>\n",
       "      <th>534.0</th>\n",
       "      <td>-50.108910</td>\n",
       "      <td>63.0</td>\n",
       "    </tr>\n",
       "    <tr>\n",
       "      <th>...</th>\n",
       "      <td>...</td>\n",
       "      <td>...</td>\n",
       "    </tr>\n",
       "    <tr>\n",
       "      <th>8187.0</th>\n",
       "      <td>-56.647923</td>\n",
       "      <td>40.0</td>\n",
       "    </tr>\n",
       "    <tr>\n",
       "      <th>8235.0</th>\n",
       "      <td>-152.319336</td>\n",
       "      <td>0.0</td>\n",
       "    </tr>\n",
       "    <tr>\n",
       "      <th>8245.0</th>\n",
       "      <td>-391.511475</td>\n",
       "      <td>0.0</td>\n",
       "    </tr>\n",
       "    <tr>\n",
       "      <th>8252.0</th>\n",
       "      <td>-254.281235</td>\n",
       "      <td>0.0</td>\n",
       "    </tr>\n",
       "    <tr>\n",
       "      <th>8523.0</th>\n",
       "      <td>-60.484856</td>\n",
       "      <td>112.0</td>\n",
       "    </tr>\n",
       "  </tbody>\n",
       "</table>\n",
       "<p>103 rows × 2 columns</p>\n",
       "</div>"
      ],
      "text/plain": [
       "         raw_preds  real value\n",
       "index                         \n",
       "29.0     -0.579016        79.0\n",
       "421.0   -44.939438        76.0\n",
       "509.0   -82.377380        76.0\n",
       "533.0   -69.917191        59.0\n",
       "534.0   -50.108910        63.0\n",
       "...            ...         ...\n",
       "8187.0  -56.647923        40.0\n",
       "8235.0 -152.319336         0.0\n",
       "8245.0 -391.511475         0.0\n",
       "8252.0 -254.281235         0.0\n",
       "8523.0  -60.484856       112.0\n",
       "\n",
       "[103 rows x 2 columns]"
      ]
     },
     "execution_count": 357,
     "metadata": {},
     "output_type": "execute_result"
    }
   ],
   "source": [
    "#index_correct = X_test[X_test.Functioning_Day_int == 0].index\n",
    "\n",
    "raw_preds = xgb_gs.predict(X_test)\n",
    "\n",
    "test_predictions = pd.DataFrame(np.array([X_test.index, raw_preds, y_test]).T, columns= ['index', 'raw_preds', 'real value'])\n",
    "test_predictions = test_predictions.set_index(\"index\")\n",
    "#for i in index_correct.values:\n",
    "#    test_predictions.loc[[i]][\"raw_preds\"] == 0\n",
    "test_predictions[test_predictions.raw_preds < 0]\n"
   ]
  },
  {
   "cell_type": "markdown",
   "metadata": {},
   "source": [
    "Indeed we are predicting negative values, this may happend with a XGBOOST model, but does not happend with other ensemble methods"
   ]
  },
  {
   "cell_type": "markdown",
   "metadata": {},
   "source": [
    "# Trying a second model, lets check how a randomForest perfomrs"
   ]
  },
  {
   "cell_type": "code",
   "execution_count": 359,
   "metadata": {},
   "outputs": [],
   "source": [
    "forest_params_grid = xgb_param_grid = {\n",
    "    'max_depth': [20, 30, 40, 50, 70],\n",
    "    'n_estimators': [200, 150, 125, 100],\n",
    "    'max_features' : [\"auto\", \"sqrt\", 5, 10, 20],\n",
    "}\n",
    "rd_forest = GridSearchCV(estimator=RandomForestRegressor(), \n",
    "                         param_grid=forest_params_grid, \n",
    "                         scoring='neg_mean_squared_error', \n",
    "                         cv=3,\n",
    "                         return_train_score=False,\n",
    "                         verbose=3,\n",
    "                         n_jobs=-1)\n"
   ]
  },
  {
   "cell_type": "code",
   "execution_count": 360,
   "metadata": {},
   "outputs": [
    {
     "name": "stdout",
     "output_type": "stream",
     "text": [
      "Fitting 3 folds for each of 100 candidates, totalling 300 fits\n"
     ]
    },
    {
     "name": "stderr",
     "output_type": "stream",
     "text": [
      "[Parallel(n_jobs=-1)]: Done  16 tasks      | elapsed:   14.7s\n",
      "[Parallel(n_jobs=-1)]: Done 112 tasks      | elapsed:   52.9s\n",
      "[Parallel(n_jobs=-1)]: Done 272 tasks      | elapsed:  2.0min\n",
      "[Parallel(n_jobs=-1)]: Done 300 out of 300 | elapsed:  2.2min finished\n"
     ]
    },
    {
     "data": {
      "text/plain": [
       "GridSearchCV(cv=3, error_score='raise',\n",
       "       estimator=RandomForestRegressor(bootstrap=True, criterion='mse', max_depth=None,\n",
       "           max_features='auto', max_leaf_nodes=None,\n",
       "           min_impurity_decrease=0.0, min_impurity_split=None,\n",
       "           min_samples_leaf=1, min_samples_split=2,\n",
       "           min_weight_fraction_leaf=0.0, n_estimators=10, n_jobs=1,\n",
       "           oob_score=False, random_state=None, verbose=0, warm_start=False),\n",
       "       fit_params=None, iid=True, n_jobs=-1,\n",
       "       param_grid={'max_depth': [20, 30, 40, 50, 70], 'n_estimators': [200, 150, 125, 100], 'max_features': ['auto', 'sqrt', 5, 10, 20]},\n",
       "       pre_dispatch='2*n_jobs', refit=True, return_train_score=False,\n",
       "       scoring='neg_mean_squared_error', verbose=3)"
      ]
     },
     "execution_count": 360,
     "metadata": {},
     "output_type": "execute_result"
    }
   ],
   "source": [
    "rd_forest.fit(X_train, y_train)"
   ]
  },
  {
   "cell_type": "code",
   "execution_count": 368,
   "metadata": {},
   "outputs": [
    {
     "data": {
      "text/plain": [
       "RandomForestRegressor(bootstrap=True, criterion='mse', max_depth=20,\n",
       "           max_features=20, max_leaf_nodes=None, min_impurity_decrease=0.0,\n",
       "           min_impurity_split=None, min_samples_leaf=1,\n",
       "           min_samples_split=2, min_weight_fraction_leaf=0.0,\n",
       "           n_estimators=100, n_jobs=1, oob_score=False, random_state=None,\n",
       "           verbose=0, warm_start=False)"
      ]
     },
     "execution_count": 368,
     "metadata": {},
     "output_type": "execute_result"
    }
   ],
   "source": [
    "rd_forest.best_estimator_"
   ]
  },
  {
   "cell_type": "code",
   "execution_count": 369,
   "metadata": {},
   "outputs": [
    {
     "data": {
      "text/html": [
       "<div>\n",
       "<style scoped>\n",
       "    .dataframe tbody tr th:only-of-type {\n",
       "        vertical-align: middle;\n",
       "    }\n",
       "\n",
       "    .dataframe tbody tr th {\n",
       "        vertical-align: top;\n",
       "    }\n",
       "\n",
       "    .dataframe thead th {\n",
       "        text-align: right;\n",
       "    }\n",
       "</style>\n",
       "<table border=\"1\" class=\"dataframe\">\n",
       "  <thead>\n",
       "    <tr style=\"text-align: right;\">\n",
       "      <th></th>\n",
       "      <th>0</th>\n",
       "    </tr>\n",
       "  </thead>\n",
       "  <tbody>\n",
       "    <tr>\n",
       "      <th>Temperature(C)</th>\n",
       "      <td>0.224189</td>\n",
       "    </tr>\n",
       "    <tr>\n",
       "      <th>Humidity(%)</th>\n",
       "      <td>0.075590</td>\n",
       "    </tr>\n",
       "    <tr>\n",
       "      <th>Wind speed (m/s)</th>\n",
       "      <td>0.011814</td>\n",
       "    </tr>\n",
       "    <tr>\n",
       "      <th>Visibility (10m)</th>\n",
       "      <td>0.012937</td>\n",
       "    </tr>\n",
       "    <tr>\n",
       "      <th>Dew point temperature(C)</th>\n",
       "      <td>0.023435</td>\n",
       "    </tr>\n",
       "    <tr>\n",
       "      <th>Solar Radiation (MJ/m2)</th>\n",
       "      <td>0.058263</td>\n",
       "    </tr>\n",
       "    <tr>\n",
       "      <th>Rainfall(mm)</th>\n",
       "      <td>0.045871</td>\n",
       "    </tr>\n",
       "    <tr>\n",
       "      <th>Snowfall (cm)</th>\n",
       "      <td>0.000500</td>\n",
       "    </tr>\n",
       "    <tr>\n",
       "      <th>year</th>\n",
       "      <td>0.000336</td>\n",
       "    </tr>\n",
       "    <tr>\n",
       "      <th>cos_month</th>\n",
       "      <td>0.009334</td>\n",
       "    </tr>\n",
       "    <tr>\n",
       "      <th>sin_month</th>\n",
       "      <td>0.009696</td>\n",
       "    </tr>\n",
       "    <tr>\n",
       "      <th>cos_hour</th>\n",
       "      <td>0.083058</td>\n",
       "    </tr>\n",
       "    <tr>\n",
       "      <th>sin_hour</th>\n",
       "      <td>0.218768</td>\n",
       "    </tr>\n",
       "    <tr>\n",
       "      <th>app_temperature</th>\n",
       "      <td>0.087347</td>\n",
       "    </tr>\n",
       "    <tr>\n",
       "      <th>Functioning_Day_int</th>\n",
       "      <td>0.079581</td>\n",
       "    </tr>\n",
       "    <tr>\n",
       "      <th>Holiday_int</th>\n",
       "      <td>0.002492</td>\n",
       "    </tr>\n",
       "    <tr>\n",
       "      <th>Seasons_Autumn</th>\n",
       "      <td>0.013697</td>\n",
       "    </tr>\n",
       "    <tr>\n",
       "      <th>Seasons_Spring</th>\n",
       "      <td>0.003117</td>\n",
       "    </tr>\n",
       "    <tr>\n",
       "      <th>Seasons_Summer</th>\n",
       "      <td>0.001546</td>\n",
       "    </tr>\n",
       "    <tr>\n",
       "      <th>Seasons_Winter</th>\n",
       "      <td>0.016962</td>\n",
       "    </tr>\n",
       "    <tr>\n",
       "      <th>day_Friday</th>\n",
       "      <td>0.001506</td>\n",
       "    </tr>\n",
       "    <tr>\n",
       "      <th>day_Monday</th>\n",
       "      <td>0.002354</td>\n",
       "    </tr>\n",
       "    <tr>\n",
       "      <th>day_Saturday</th>\n",
       "      <td>0.006569</td>\n",
       "    </tr>\n",
       "    <tr>\n",
       "      <th>day_Sunday</th>\n",
       "      <td>0.006800</td>\n",
       "    </tr>\n",
       "    <tr>\n",
       "      <th>day_Thursday</th>\n",
       "      <td>0.001412</td>\n",
       "    </tr>\n",
       "    <tr>\n",
       "      <th>day_Tuesday</th>\n",
       "      <td>0.001213</td>\n",
       "    </tr>\n",
       "    <tr>\n",
       "      <th>day_Wednesday</th>\n",
       "      <td>0.001611</td>\n",
       "    </tr>\n",
       "  </tbody>\n",
       "</table>\n",
       "</div>"
      ],
      "text/plain": [
       "                                 0\n",
       "Temperature(C)            0.224189\n",
       "Humidity(%)               0.075590\n",
       "Wind speed (m/s)          0.011814\n",
       "Visibility (10m)          0.012937\n",
       "Dew point temperature(C)  0.023435\n",
       "Solar Radiation (MJ/m2)   0.058263\n",
       "Rainfall(mm)              0.045871\n",
       "Snowfall (cm)             0.000500\n",
       "year                      0.000336\n",
       "cos_month                 0.009334\n",
       "sin_month                 0.009696\n",
       "cos_hour                  0.083058\n",
       "sin_hour                  0.218768\n",
       "app_temperature           0.087347\n",
       "Functioning_Day_int       0.079581\n",
       "Holiday_int               0.002492\n",
       "Seasons_Autumn            0.013697\n",
       "Seasons_Spring            0.003117\n",
       "Seasons_Summer            0.001546\n",
       "Seasons_Winter            0.016962\n",
       "day_Friday                0.001506\n",
       "day_Monday                0.002354\n",
       "day_Saturday              0.006569\n",
       "day_Sunday                0.006800\n",
       "day_Thursday              0.001412\n",
       "day_Tuesday               0.001213\n",
       "day_Wednesday             0.001611"
      ]
     },
     "execution_count": 369,
     "metadata": {},
     "output_type": "execute_result"
    }
   ],
   "source": [
    "f_importance = pd.DataFrame(index=X_train.columns, data=rd_forest.best_estimator_.feature_importances_)\n",
    "f_importance"
   ]
  },
  {
   "cell_type": "code",
   "execution_count": 378,
   "metadata": {},
   "outputs": [
    {
     "data": {
      "text/plain": [
       "0.9122008807332502"
      ]
     },
     "execution_count": 378,
     "metadata": {},
     "output_type": "execute_result"
    }
   ],
   "source": [
    "raw_preds = rd_forest.best_estimator_.predict(X_test)\n",
    "r2_score(y_test, raw_preds)"
   ]
  },
  {
   "cell_type": "code",
   "execution_count": 372,
   "metadata": {},
   "outputs": [
    {
     "data": {
      "text/plain": [
       "0.9849251148361573"
      ]
     },
     "execution_count": 372,
     "metadata": {},
     "output_type": "execute_result"
    }
   ],
   "source": [
    "pred = rd_forest.best_estimator_.predict(X_train)\n",
    "r2_score(y_train, pred)"
   ]
  },
  {
   "cell_type": "code",
   "execution_count": 379,
   "metadata": {},
   "outputs": [
    {
     "data": {
      "text/html": [
       "<div>\n",
       "<style scoped>\n",
       "    .dataframe tbody tr th:only-of-type {\n",
       "        vertical-align: middle;\n",
       "    }\n",
       "\n",
       "    .dataframe tbody tr th {\n",
       "        vertical-align: top;\n",
       "    }\n",
       "\n",
       "    .dataframe thead th {\n",
       "        text-align: right;\n",
       "    }\n",
       "</style>\n",
       "<table border=\"1\" class=\"dataframe\">\n",
       "  <thead>\n",
       "    <tr style=\"text-align: right;\">\n",
       "      <th></th>\n",
       "      <th>raw_preds</th>\n",
       "      <th>real value</th>\n",
       "    </tr>\n",
       "    <tr>\n",
       "      <th>index</th>\n",
       "      <th></th>\n",
       "      <th></th>\n",
       "    </tr>\n",
       "  </thead>\n",
       "  <tbody>\n",
       "  </tbody>\n",
       "</table>\n",
       "</div>"
      ],
      "text/plain": [
       "Empty DataFrame\n",
       "Columns: [raw_preds, real value]\n",
       "Index: []"
      ]
     },
     "execution_count": 379,
     "metadata": {},
     "output_type": "execute_result"
    }
   ],
   "source": [
    "test_predictions = pd.DataFrame(np.array([X_test.index, raw_preds, y_test]).T, columns= ['index', 'raw_preds', 'real value'])\n",
    "test_predictions = test_predictions.set_index(\"index\")\n",
    "#for i in index_correct.values:\n",
    "#    test_predictions.loc[[i]][\"raw_preds\"] == 0\n",
    "test_predictions[test_predictions.raw_preds < 0]\n"
   ]
  },
  {
   "cell_type": "markdown",
   "metadata": {},
   "source": [
    "As expected, with a random forest we do not have negative predicted values (values out of the prediction range)"
   ]
  },
  {
   "cell_type": "code",
   "execution_count": 373,
   "metadata": {},
   "outputs": [],
   "source": [
    "cv_preds = cross_val_predict(\n",
    "        estimator=rd_forest.best_estimator_,\n",
    "        X=X_train, \n",
    "        y=y_train,\n",
    "        cv=5,\n",
    "        n_jobs=-1\n",
    "    )"
   ]
  },
  {
   "cell_type": "code",
   "execution_count": 374,
   "metadata": {},
   "outputs": [
    {
     "data": {
      "text/plain": [
       "{'RMSE Test': 189.00066659758784,\n",
       " 'RMSE Train': 79.40423451064292,\n",
       " 'r2 Test': 0.9122008807332502,\n",
       " 'r2 Train': 0.9849251148361573}"
      ]
     },
     "execution_count": 374,
     "metadata": {},
     "output_type": "execute_result"
    }
   ],
   "source": [
    "metric = model_evaluate(rd_forest.best_estimator_, X_train, y_train, X_test, y_test)\n",
    "metric"
   ]
  },
  {
   "cell_type": "markdown",
   "metadata": {},
   "source": [
    "# Summing up both predictions\n",
    "\n",
    "lets now sum-up the predictions of both the XGBOOST and the randomForest "
   ]
  },
  {
   "cell_type": "code",
   "execution_count": 380,
   "metadata": {},
   "outputs": [],
   "source": [
    "def ensemble_metric(models, X_train, X_test):\n",
    "    preds_train = []\n",
    "    preds_test = []\n",
    "    for model in models:\n",
    "        preds_train.append(model.predict(X_train))\n",
    "        preds_test.append(model.predict(X_test))\n",
    "    preds_train_mean = sum(preds_train)/len(models)\n",
    "    preds_test_mean = sum(preds_test)/len(models)\n",
    "    return preds_train_mean, preds_test_mean\n",
    "\n",
    "def get_metrics(y_train, y_pred_train, y_test, y_pred):\n",
    "    rmse_test = np.sqrt(calculate_metrics(y_test, y_pred, mean_squared_error))\n",
    "    #RMSE Train\n",
    "    rmse_train = np.sqrt(calculate_metrics(y_train, y_pred_train, mean_squared_error))\n",
    "    r2_test = calculate_metrics(y_test, y_pred, r2_score)\n",
    "    r2_train = calculate_metrics(y_train, y_pred_train, r2_score)\n",
    "    metrics = {\n",
    "              'RMSE Test': rmse_test,\n",
    "              'RMSE Train': rmse_train,\n",
    "              'r2 Test': r2_test,\n",
    "              'r2 Train': r2_train}\n",
    "    return metrics\n"
   ]
  },
  {
   "cell_type": "code",
   "execution_count": 381,
   "metadata": {},
   "outputs": [
    {
     "data": {
      "text/plain": [
       "{'RMSE Test': 181.27159793663958,\n",
       " 'RMSE Train': 100.24154590284672,\n",
       " 'r2 Test': 0.9192350341332308,\n",
       " 'r2 Train': 0.9759750663415167}"
      ]
     },
     "execution_count": 381,
     "metadata": {},
     "output_type": "execute_result"
    }
   ],
   "source": [
    "preds_train_mean, preds_test_mean = ensemble_metric([xgb_gs, rd_forest], X_train, X_test)\n",
    "metrics = get_metrics(y_train, preds_train_mean, y_test, preds_test_mean)\n",
    "metrics"
   ]
  },
  {
   "cell_type": "markdown",
   "metadata": {},
   "source": [
    "We have achieved nearly a 0.92 r2 value"
   ]
  },
  {
   "cell_type": "code",
   "execution_count": null,
   "metadata": {},
   "outputs": [],
   "source": []
  }
 ],
 "metadata": {
  "colab": {
   "name": "Welcome to DataCamp Workspaces.ipynb",
   "provenance": []
  },
  "kernelspec": {
   "display_name": "Python 3",
   "language": "python",
   "name": "python3"
  },
  "language_info": {
   "codemirror_mode": {
    "name": "ipython",
    "version": 3
   },
   "file_extension": ".py",
   "mimetype": "text/x-python",
   "name": "python",
   "nbconvert_exporter": "python",
   "pygments_lexer": "ipython3",
   "version": "3.6.5"
  }
 },
 "nbformat": 4,
 "nbformat_minor": 5
}
